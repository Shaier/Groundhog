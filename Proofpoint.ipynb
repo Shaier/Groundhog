{
  "nbformat": 4,
  "nbformat_minor": 0,
  "metadata": {
    "colab": {
      "name": "Proofpoint.ipynb",
      "version": "0.3.2",
      "provenance": [],
      "collapsed_sections": []
    },
    "kernelspec": {
      "name": "python3",
      "display_name": "Python 3"
    },
    "accelerator": "GPU"
  },
  "cells": [
    {
      "metadata": {
        "id": "D8xFuWWZ0Z5A",
        "colab_type": "text"
      },
      "cell_type": "markdown",
      "source": [
        "## Mounting drive and adjustments"
      ]
    },
    {
      "metadata": {
        "id": "wjns-AOa40fA",
        "colab_type": "code",
        "outputId": "58400be7-4946-4a2d-f375-eeb8b34e2c8a",
        "colab": {
          "base_uri": "https://localhost:8080/",
          "height": 35
        }
      },
      "cell_type": "code",
      "source": [
        "from google.colab import drive\n",
        "drive.mount('/content/gdrive')"
      ],
      "execution_count": 116,
      "outputs": [
        {
          "output_type": "stream",
          "text": [
            "Drive already mounted at /content/gdrive; to attempt to forcibly remount, call drive.mount(\"/content/gdrive\", force_remount=True).\n"
          ],
          "name": "stdout"
        }
      ]
    },
    {
      "metadata": {
        "id": "NYtc4ArV5RfK",
        "colab_type": "code",
        "outputId": "ee4e786f-8065-4988-d696-76531b8f15fb",
        "colab": {
          "base_uri": "https://localhost:8080/",
          "height": 35
        }
      },
      "cell_type": "code",
      "source": [
        "#Change working directory to make it easier to access the files\n",
        "import os\n",
        "os.chdir(\"/content/gdrive/My Drive/Colab Notebooks/proofpoint\")\n",
        "os.getcwd() "
      ],
      "execution_count": 2,
      "outputs": [
        {
          "output_type": "execute_result",
          "data": {
            "text/plain": [
              "'/content/gdrive/My Drive/Colab Notebooks/proofpoint'"
            ]
          },
          "metadata": {
            "tags": []
          },
          "execution_count": 2
        }
      ]
    },
    {
      "metadata": {
        "id": "3xzV--qd5o5m",
        "colab_type": "code",
        "outputId": "6ec59a88-5b95-4c93-ce6d-2ab2a2f85cf9",
        "colab": {
          "base_uri": "https://localhost:8080/",
          "height": 35
        }
      },
      "cell_type": "code",
      "source": [
        "#Import libraries\n",
        "import matplotlib.pyplot as plt\n",
        "import pandas as pd\n",
        "import numpy as np\n",
        "import seaborn as sns\n",
        "from keras.utils.np_utils import to_categorical\n",
        "from keras.models import Sequential\n",
        "from keras.layers import Dense, Dropout, BatchNormalization, Activation\n",
        "from sklearn.metrics import confusion_matrix, classification_report\n",
        "from sklearn.model_selection import train_test_split\n",
        "import csv\n",
        "from sklearn.model_selection import GridSearchCV\n",
        "from keras.wrappers.scikit_learn import KerasClassifier\n",
        "from keras.optimizers import SGD, Adam, RMSprop, Adagrad, Adamax\n",
        "from keras.callbacks import ModelCheckpoint\n"
      ],
      "execution_count": 3,
      "outputs": [
        {
          "output_type": "stream",
          "text": [
            "Using TensorFlow backend.\n"
          ],
          "name": "stderr"
        }
      ]
    },
    {
      "metadata": {
        "id": "yESn77mP0uIT",
        "colab_type": "text"
      },
      "cell_type": "markdown",
      "source": [
        "## Loading the data"
      ]
    },
    {
      "metadata": {
        "id": "_TwvH9QV5Vfk",
        "colab_type": "code",
        "outputId": "cf701f88-6fc1-444a-ad49-ddf67f049902",
        "colab": {
          "base_uri": "https://localhost:8080/",
          "height": 54
        }
      },
      "cell_type": "code",
      "source": [
        "features_dataset=pd.read_csv('train_features.csv', header=None)\n",
        "labels_dataset=pd.read_csv('train_labels.csv', header=None)\n",
        "print('Features dataset shape is: ' + str(features_dataset.shape))\n",
        "print('Labels dataset shape is: '+ str(labels_dataset.shape))"
      ],
      "execution_count": 105,
      "outputs": [
        {
          "output_type": "stream",
          "text": [
            "Features dataset shape is: (140, 903)\n",
            "Labels dataset shape is: (140, 1)\n"
          ],
          "name": "stdout"
        }
      ]
    },
    {
      "metadata": {
        "id": "z1Lw2HgQ0zsI",
        "colab_type": "text"
      },
      "cell_type": "markdown",
      "source": [
        "## Data exploration"
      ]
    },
    {
      "metadata": {
        "id": "nLwuOCP752V_",
        "colab_type": "code",
        "outputId": "f5c2ff72-9dae-42b8-a76e-ec1d892c58c7",
        "colab": {
          "base_uri": "https://localhost:8080/",
          "height": 337
        }
      },
      "cell_type": "code",
      "source": [
        "features_dataset.describe()"
      ],
      "execution_count": 106,
      "outputs": [
        {
          "output_type": "execute_result",
          "data": {
            "text/html": [
              "<div>\n",
              "<style scoped>\n",
              "    .dataframe tbody tr th:only-of-type {\n",
              "        vertical-align: middle;\n",
              "    }\n",
              "\n",
              "    .dataframe tbody tr th {\n",
              "        vertical-align: top;\n",
              "    }\n",
              "\n",
              "    .dataframe thead th {\n",
              "        text-align: right;\n",
              "    }\n",
              "</style>\n",
              "<table border=\"1\" class=\"dataframe\">\n",
              "  <thead>\n",
              "    <tr style=\"text-align: right;\">\n",
              "      <th></th>\n",
              "      <th>3</th>\n",
              "      <th>4</th>\n",
              "      <th>5</th>\n",
              "      <th>6</th>\n",
              "      <th>7</th>\n",
              "      <th>8</th>\n",
              "      <th>9</th>\n",
              "      <th>10</th>\n",
              "      <th>11</th>\n",
              "      <th>12</th>\n",
              "      <th>...</th>\n",
              "      <th>893</th>\n",
              "      <th>894</th>\n",
              "      <th>895</th>\n",
              "      <th>896</th>\n",
              "      <th>897</th>\n",
              "      <th>898</th>\n",
              "      <th>899</th>\n",
              "      <th>900</th>\n",
              "      <th>901</th>\n",
              "      <th>902</th>\n",
              "    </tr>\n",
              "  </thead>\n",
              "  <tbody>\n",
              "    <tr>\n",
              "      <th>count</th>\n",
              "      <td>140.000000</td>\n",
              "      <td>140.000000</td>\n",
              "      <td>140.000000</td>\n",
              "      <td>140.000000</td>\n",
              "      <td>140.000000</td>\n",
              "      <td>140.000000</td>\n",
              "      <td>140.000000</td>\n",
              "      <td>140.000000</td>\n",
              "      <td>140.000000</td>\n",
              "      <td>140.000000</td>\n",
              "      <td>...</td>\n",
              "      <td>140.000000</td>\n",
              "      <td>140.000000</td>\n",
              "      <td>140.000000</td>\n",
              "      <td>140.000000</td>\n",
              "      <td>140.000000</td>\n",
              "      <td>140.000000</td>\n",
              "      <td>140.000000</td>\n",
              "      <td>140.000000</td>\n",
              "      <td>140.000000</td>\n",
              "      <td>140.000000</td>\n",
              "    </tr>\n",
              "    <tr>\n",
              "      <th>mean</th>\n",
              "      <td>-3.706226</td>\n",
              "      <td>0.620541</td>\n",
              "      <td>-0.691226</td>\n",
              "      <td>-2.883438</td>\n",
              "      <td>0.798445</td>\n",
              "      <td>0.276561</td>\n",
              "      <td>0.382528</td>\n",
              "      <td>-0.890959</td>\n",
              "      <td>-1.694734</td>\n",
              "      <td>-0.719966</td>\n",
              "      <td>...</td>\n",
              "      <td>-1.508409</td>\n",
              "      <td>-1.576743</td>\n",
              "      <td>0.190566</td>\n",
              "      <td>0.665053</td>\n",
              "      <td>-0.774684</td>\n",
              "      <td>0.931779</td>\n",
              "      <td>0.791181</td>\n",
              "      <td>-0.458641</td>\n",
              "      <td>0.723416</td>\n",
              "      <td>-0.132218</td>\n",
              "    </tr>\n",
              "    <tr>\n",
              "      <th>std</th>\n",
              "      <td>4.064704</td>\n",
              "      <td>3.014747</td>\n",
              "      <td>3.295262</td>\n",
              "      <td>3.331956</td>\n",
              "      <td>3.484214</td>\n",
              "      <td>3.203680</td>\n",
              "      <td>3.114446</td>\n",
              "      <td>3.221021</td>\n",
              "      <td>3.639898</td>\n",
              "      <td>3.124935</td>\n",
              "      <td>...</td>\n",
              "      <td>3.125331</td>\n",
              "      <td>3.262723</td>\n",
              "      <td>3.429600</td>\n",
              "      <td>3.092077</td>\n",
              "      <td>3.462897</td>\n",
              "      <td>3.301253</td>\n",
              "      <td>3.131848</td>\n",
              "      <td>2.616963</td>\n",
              "      <td>3.382829</td>\n",
              "      <td>3.657816</td>\n",
              "    </tr>\n",
              "    <tr>\n",
              "      <th>min</th>\n",
              "      <td>-12.753200</td>\n",
              "      <td>-8.020900</td>\n",
              "      <td>-9.688800</td>\n",
              "      <td>-10.540100</td>\n",
              "      <td>-8.493400</td>\n",
              "      <td>-6.525400</td>\n",
              "      <td>-8.397000</td>\n",
              "      <td>-8.372300</td>\n",
              "      <td>-10.153200</td>\n",
              "      <td>-10.185400</td>\n",
              "      <td>...</td>\n",
              "      <td>-8.152700</td>\n",
              "      <td>-10.229800</td>\n",
              "      <td>-8.713400</td>\n",
              "      <td>-9.106600</td>\n",
              "      <td>-11.294900</td>\n",
              "      <td>-7.695700</td>\n",
              "      <td>-7.090500</td>\n",
              "      <td>-6.851600</td>\n",
              "      <td>-6.184400</td>\n",
              "      <td>-9.723500</td>\n",
              "    </tr>\n",
              "    <tr>\n",
              "      <th>25%</th>\n",
              "      <td>-6.393700</td>\n",
              "      <td>-1.665500</td>\n",
              "      <td>-2.625975</td>\n",
              "      <td>-5.215000</td>\n",
              "      <td>-1.934025</td>\n",
              "      <td>-1.833875</td>\n",
              "      <td>-1.871550</td>\n",
              "      <td>-2.941725</td>\n",
              "      <td>-3.986725</td>\n",
              "      <td>-2.876275</td>\n",
              "      <td>...</td>\n",
              "      <td>-3.739425</td>\n",
              "      <td>-3.837325</td>\n",
              "      <td>-2.248525</td>\n",
              "      <td>-1.361275</td>\n",
              "      <td>-3.141325</td>\n",
              "      <td>-0.960575</td>\n",
              "      <td>-1.299400</td>\n",
              "      <td>-2.491375</td>\n",
              "      <td>-1.769575</td>\n",
              "      <td>-2.728575</td>\n",
              "    </tr>\n",
              "    <tr>\n",
              "      <th>50%</th>\n",
              "      <td>-4.022400</td>\n",
              "      <td>0.559550</td>\n",
              "      <td>-0.651150</td>\n",
              "      <td>-3.022050</td>\n",
              "      <td>1.005600</td>\n",
              "      <td>0.309250</td>\n",
              "      <td>0.454450</td>\n",
              "      <td>-0.826550</td>\n",
              "      <td>-1.664150</td>\n",
              "      <td>-0.940650</td>\n",
              "      <td>...</td>\n",
              "      <td>-1.873850</td>\n",
              "      <td>-1.594600</td>\n",
              "      <td>0.274000</td>\n",
              "      <td>0.456750</td>\n",
              "      <td>-1.232550</td>\n",
              "      <td>1.210100</td>\n",
              "      <td>0.785650</td>\n",
              "      <td>-0.055900</td>\n",
              "      <td>0.350250</td>\n",
              "      <td>0.200050</td>\n",
              "    </tr>\n",
              "    <tr>\n",
              "      <th>75%</th>\n",
              "      <td>-0.860025</td>\n",
              "      <td>2.784550</td>\n",
              "      <td>1.432475</td>\n",
              "      <td>-0.441100</td>\n",
              "      <td>3.353100</td>\n",
              "      <td>2.432525</td>\n",
              "      <td>2.270475</td>\n",
              "      <td>1.324300</td>\n",
              "      <td>0.575900</td>\n",
              "      <td>1.441625</td>\n",
              "      <td>...</td>\n",
              "      <td>0.490925</td>\n",
              "      <td>0.554300</td>\n",
              "      <td>2.449825</td>\n",
              "      <td>2.790450</td>\n",
              "      <td>1.842575</td>\n",
              "      <td>3.121575</td>\n",
              "      <td>2.618375</td>\n",
              "      <td>1.136900</td>\n",
              "      <td>3.384000</td>\n",
              "      <td>2.175950</td>\n",
              "    </tr>\n",
              "    <tr>\n",
              "      <th>max</th>\n",
              "      <td>7.862500</td>\n",
              "      <td>9.077900</td>\n",
              "      <td>7.729800</td>\n",
              "      <td>5.230100</td>\n",
              "      <td>10.856000</td>\n",
              "      <td>8.125200</td>\n",
              "      <td>9.032900</td>\n",
              "      <td>8.249100</td>\n",
              "      <td>7.994100</td>\n",
              "      <td>7.576900</td>\n",
              "      <td>...</td>\n",
              "      <td>7.073000</td>\n",
              "      <td>6.822000</td>\n",
              "      <td>11.433600</td>\n",
              "      <td>9.259000</td>\n",
              "      <td>7.385900</td>\n",
              "      <td>12.639000</td>\n",
              "      <td>9.713000</td>\n",
              "      <td>5.019900</td>\n",
              "      <td>8.439900</td>\n",
              "      <td>9.632300</td>\n",
              "    </tr>\n",
              "  </tbody>\n",
              "</table>\n",
              "<p>8 rows × 900 columns</p>\n",
              "</div>"
            ],
            "text/plain": [
              "              3           4           5           6           7           8    \\\n",
              "count  140.000000  140.000000  140.000000  140.000000  140.000000  140.000000   \n",
              "mean    -3.706226    0.620541   -0.691226   -2.883438    0.798445    0.276561   \n",
              "std      4.064704    3.014747    3.295262    3.331956    3.484214    3.203680   \n",
              "min    -12.753200   -8.020900   -9.688800  -10.540100   -8.493400   -6.525400   \n",
              "25%     -6.393700   -1.665500   -2.625975   -5.215000   -1.934025   -1.833875   \n",
              "50%     -4.022400    0.559550   -0.651150   -3.022050    1.005600    0.309250   \n",
              "75%     -0.860025    2.784550    1.432475   -0.441100    3.353100    2.432525   \n",
              "max      7.862500    9.077900    7.729800    5.230100   10.856000    8.125200   \n",
              "\n",
              "              9           10          11          12      ...             893  \\\n",
              "count  140.000000  140.000000  140.000000  140.000000     ...      140.000000   \n",
              "mean     0.382528   -0.890959   -1.694734   -0.719966     ...       -1.508409   \n",
              "std      3.114446    3.221021    3.639898    3.124935     ...        3.125331   \n",
              "min     -8.397000   -8.372300  -10.153200  -10.185400     ...       -8.152700   \n",
              "25%     -1.871550   -2.941725   -3.986725   -2.876275     ...       -3.739425   \n",
              "50%      0.454450   -0.826550   -1.664150   -0.940650     ...       -1.873850   \n",
              "75%      2.270475    1.324300    0.575900    1.441625     ...        0.490925   \n",
              "max      9.032900    8.249100    7.994100    7.576900     ...        7.073000   \n",
              "\n",
              "              894         895         896         897         898         899  \\\n",
              "count  140.000000  140.000000  140.000000  140.000000  140.000000  140.000000   \n",
              "mean    -1.576743    0.190566    0.665053   -0.774684    0.931779    0.791181   \n",
              "std      3.262723    3.429600    3.092077    3.462897    3.301253    3.131848   \n",
              "min    -10.229800   -8.713400   -9.106600  -11.294900   -7.695700   -7.090500   \n",
              "25%     -3.837325   -2.248525   -1.361275   -3.141325   -0.960575   -1.299400   \n",
              "50%     -1.594600    0.274000    0.456750   -1.232550    1.210100    0.785650   \n",
              "75%      0.554300    2.449825    2.790450    1.842575    3.121575    2.618375   \n",
              "max      6.822000   11.433600    9.259000    7.385900   12.639000    9.713000   \n",
              "\n",
              "              900         901         902  \n",
              "count  140.000000  140.000000  140.000000  \n",
              "mean    -0.458641    0.723416   -0.132218  \n",
              "std      2.616963    3.382829    3.657816  \n",
              "min     -6.851600   -6.184400   -9.723500  \n",
              "25%     -2.491375   -1.769575   -2.728575  \n",
              "50%     -0.055900    0.350250    0.200050  \n",
              "75%      1.136900    3.384000    2.175950  \n",
              "max      5.019900    8.439900    9.632300  \n",
              "\n",
              "[8 rows x 900 columns]"
            ]
          },
          "metadata": {
            "tags": []
          },
          "execution_count": 106
        }
      ]
    },
    {
      "metadata": {
        "id": "xQqbvFvP7sgZ",
        "colab_type": "code",
        "outputId": "0749129e-ff83-4ad8-aa66-5dc69882ef57",
        "colab": {
          "base_uri": "https://localhost:8080/",
          "height": 227
        }
      },
      "cell_type": "code",
      "source": [
        "features_dataset.head()"
      ],
      "execution_count": 107,
      "outputs": [
        {
          "output_type": "execute_result",
          "data": {
            "text/html": [
              "<div>\n",
              "<style scoped>\n",
              "    .dataframe tbody tr th:only-of-type {\n",
              "        vertical-align: middle;\n",
              "    }\n",
              "\n",
              "    .dataframe tbody tr th {\n",
              "        vertical-align: top;\n",
              "    }\n",
              "\n",
              "    .dataframe thead th {\n",
              "        text-align: right;\n",
              "    }\n",
              "</style>\n",
              "<table border=\"1\" class=\"dataframe\">\n",
              "  <thead>\n",
              "    <tr style=\"text-align: right;\">\n",
              "      <th></th>\n",
              "      <th>0</th>\n",
              "      <th>1</th>\n",
              "      <th>2</th>\n",
              "      <th>3</th>\n",
              "      <th>4</th>\n",
              "      <th>5</th>\n",
              "      <th>6</th>\n",
              "      <th>7</th>\n",
              "      <th>8</th>\n",
              "      <th>9</th>\n",
              "      <th>...</th>\n",
              "      <th>893</th>\n",
              "      <th>894</th>\n",
              "      <th>895</th>\n",
              "      <th>896</th>\n",
              "      <th>897</th>\n",
              "      <th>898</th>\n",
              "      <th>899</th>\n",
              "      <th>900</th>\n",
              "      <th>901</th>\n",
              "      <th>902</th>\n",
              "    </tr>\n",
              "  </thead>\n",
              "  <tbody>\n",
              "    <tr>\n",
              "      <th>0</th>\n",
              "      <td>right</td>\n",
              "      <td>type_3</td>\n",
              "      <td>green</td>\n",
              "      <td>0.8827</td>\n",
              "      <td>3.2917</td>\n",
              "      <td>1.4651</td>\n",
              "      <td>-4.5278</td>\n",
              "      <td>1.0490</td>\n",
              "      <td>2.3398</td>\n",
              "      <td>1.8729</td>\n",
              "      <td>...</td>\n",
              "      <td>0.8854</td>\n",
              "      <td>-0.8752</td>\n",
              "      <td>0.2662</td>\n",
              "      <td>4.9686</td>\n",
              "      <td>2.5588</td>\n",
              "      <td>-0.6121</td>\n",
              "      <td>-3.3692</td>\n",
              "      <td>0.0550</td>\n",
              "      <td>-1.5296</td>\n",
              "      <td>-5.3041</td>\n",
              "    </tr>\n",
              "    <tr>\n",
              "      <th>1</th>\n",
              "      <td>left</td>\n",
              "      <td>type_2</td>\n",
              "      <td>blue</td>\n",
              "      <td>1.4458</td>\n",
              "      <td>-2.9575</td>\n",
              "      <td>-1.2341</td>\n",
              "      <td>-3.9684</td>\n",
              "      <td>-2.7645</td>\n",
              "      <td>5.6346</td>\n",
              "      <td>1.7838</td>\n",
              "      <td>...</td>\n",
              "      <td>-4.3774</td>\n",
              "      <td>-2.2512</td>\n",
              "      <td>-1.6331</td>\n",
              "      <td>7.2724</td>\n",
              "      <td>1.7616</td>\n",
              "      <td>4.2826</td>\n",
              "      <td>5.5557</td>\n",
              "      <td>1.0588</td>\n",
              "      <td>2.6734</td>\n",
              "      <td>-4.5224</td>\n",
              "    </tr>\n",
              "    <tr>\n",
              "      <th>2</th>\n",
              "      <td>right</td>\n",
              "      <td>type_2</td>\n",
              "      <td>green</td>\n",
              "      <td>-10.2982</td>\n",
              "      <td>-0.3714</td>\n",
              "      <td>-0.9886</td>\n",
              "      <td>-3.2219</td>\n",
              "      <td>4.0925</td>\n",
              "      <td>-0.8319</td>\n",
              "      <td>-3.0588</td>\n",
              "      <td>...</td>\n",
              "      <td>-1.4408</td>\n",
              "      <td>-2.5580</td>\n",
              "      <td>-1.2116</td>\n",
              "      <td>5.1098</td>\n",
              "      <td>-0.6747</td>\n",
              "      <td>-1.2528</td>\n",
              "      <td>-2.2944</td>\n",
              "      <td>-3.4745</td>\n",
              "      <td>2.8633</td>\n",
              "      <td>1.6737</td>\n",
              "    </tr>\n",
              "    <tr>\n",
              "      <th>3</th>\n",
              "      <td>right</td>\n",
              "      <td>type_1</td>\n",
              "      <td>red</td>\n",
              "      <td>-8.4566</td>\n",
              "      <td>-0.2408</td>\n",
              "      <td>-3.0342</td>\n",
              "      <td>2.9534</td>\n",
              "      <td>2.8977</td>\n",
              "      <td>0.8851</td>\n",
              "      <td>3.0113</td>\n",
              "      <td>...</td>\n",
              "      <td>0.9434</td>\n",
              "      <td>-0.8771</td>\n",
              "      <td>0.4143</td>\n",
              "      <td>4.3368</td>\n",
              "      <td>-11.2949</td>\n",
              "      <td>-7.4289</td>\n",
              "      <td>7.9900</td>\n",
              "      <td>-6.2433</td>\n",
              "      <td>1.6592</td>\n",
              "      <td>-4.8601</td>\n",
              "    </tr>\n",
              "    <tr>\n",
              "      <th>4</th>\n",
              "      <td>left</td>\n",
              "      <td>type_1</td>\n",
              "      <td>blue</td>\n",
              "      <td>4.2681</td>\n",
              "      <td>-2.2052</td>\n",
              "      <td>-5.9093</td>\n",
              "      <td>0.1036</td>\n",
              "      <td>1.8462</td>\n",
              "      <td>1.9801</td>\n",
              "      <td>2.1129</td>\n",
              "      <td>...</td>\n",
              "      <td>-0.2290</td>\n",
              "      <td>0.5390</td>\n",
              "      <td>0.7648</td>\n",
              "      <td>1.1348</td>\n",
              "      <td>1.9829</td>\n",
              "      <td>3.7682</td>\n",
              "      <td>-1.7092</td>\n",
              "      <td>1.4791</td>\n",
              "      <td>5.7732</td>\n",
              "      <td>-3.9106</td>\n",
              "    </tr>\n",
              "  </tbody>\n",
              "</table>\n",
              "<p>5 rows × 903 columns</p>\n",
              "</div>"
            ],
            "text/plain": [
              "     0       1      2        3       4       5       6       7       8    \\\n",
              "0  right  type_3  green   0.8827  3.2917  1.4651 -4.5278  1.0490  2.3398   \n",
              "1   left  type_2   blue   1.4458 -2.9575 -1.2341 -3.9684 -2.7645  5.6346   \n",
              "2  right  type_2  green -10.2982 -0.3714 -0.9886 -3.2219  4.0925 -0.8319   \n",
              "3  right  type_1    red  -8.4566 -0.2408 -3.0342  2.9534  2.8977  0.8851   \n",
              "4   left  type_1   blue   4.2681 -2.2052 -5.9093  0.1036  1.8462  1.9801   \n",
              "\n",
              "      9     ...       893     894     895     896      897     898     899  \\\n",
              "0  1.8729   ...    0.8854 -0.8752  0.2662  4.9686   2.5588 -0.6121 -3.3692   \n",
              "1  1.7838   ...   -4.3774 -2.2512 -1.6331  7.2724   1.7616  4.2826  5.5557   \n",
              "2 -3.0588   ...   -1.4408 -2.5580 -1.2116  5.1098  -0.6747 -1.2528 -2.2944   \n",
              "3  3.0113   ...    0.9434 -0.8771  0.4143  4.3368 -11.2949 -7.4289  7.9900   \n",
              "4  2.1129   ...   -0.2290  0.5390  0.7648  1.1348   1.9829  3.7682 -1.7092   \n",
              "\n",
              "      900     901     902  \n",
              "0  0.0550 -1.5296 -5.3041  \n",
              "1  1.0588  2.6734 -4.5224  \n",
              "2 -3.4745  2.8633  1.6737  \n",
              "3 -6.2433  1.6592 -4.8601  \n",
              "4  1.4791  5.7732 -3.9106  \n",
              "\n",
              "[5 rows x 903 columns]"
            ]
          },
          "metadata": {
            "tags": []
          },
          "execution_count": 107
        }
      ]
    },
    {
      "metadata": {
        "id": "KmNyNQIA7tni",
        "colab_type": "code",
        "outputId": "1cf7004c-c82c-493f-a431-ff147d3c5582",
        "colab": {
          "base_uri": "https://localhost:8080/",
          "height": 35
        }
      },
      "cell_type": "code",
      "source": [
        "features_dataset.isnull().values.any() #check for missing values"
      ],
      "execution_count": 108,
      "outputs": [
        {
          "output_type": "execute_result",
          "data": {
            "text/plain": [
              "False"
            ]
          },
          "metadata": {
            "tags": []
          },
          "execution_count": 108
        }
      ]
    },
    {
      "metadata": {
        "id": "U9v45VdEZKcq",
        "colab_type": "code",
        "outputId": "de0a708a-ab62-4870-82da-7157eedeeab9",
        "colab": {
          "base_uri": "https://localhost:8080/",
          "height": 181
        }
      },
      "cell_type": "code",
      "source": [
        "#Counting values for categorical\n",
        "from collections import Counter\n",
        "print('first col')\n",
        "print(Counter(features_dataset[0]).keys())\n",
        "print(Counter(features_dataset[0]).values())\n",
        "print('second col')\n",
        "print(Counter(features_dataset[1]).keys())\n",
        "print(Counter(features_dataset[1]).values())\n",
        "print('third col')\n",
        "print(Counter(features_dataset[2]).keys())\n",
        "print(Counter(features_dataset[2]).values())"
      ],
      "execution_count": 109,
      "outputs": [
        {
          "output_type": "stream",
          "text": [
            "first col\n",
            "dict_keys(['right', 'left'])\n",
            "dict_values([61, 79])\n",
            "second col\n",
            "dict_keys(['type_3', 'type_2', 'type_1'])\n",
            "dict_values([64, 32, 44])\n",
            "third col\n",
            "dict_keys(['green', 'blue', 'red'])\n",
            "dict_values([51, 36, 53])\n"
          ],
          "name": "stdout"
        }
      ]
    },
    {
      "metadata": {
        "id": "neMt0wIm1hjl",
        "colab_type": "text"
      },
      "cell_type": "markdown",
      "source": [
        "## Convert categorical and labels to one-hot"
      ]
    },
    {
      "metadata": {
        "id": "HgHY0v7t-cM1",
        "colab_type": "code",
        "colab": {}
      },
      "cell_type": "code",
      "source": [
        "#converts the labels to one-hot\n",
        "y_cat = to_categorical(labels_dataset.iloc[:,:]) \n",
        "\n",
        "# Get one hot encoding of columns 1-3 in the feature dataset\n",
        "one_hot = pd.get_dummies(features_dataset.iloc[:,:3])\n",
        "\n",
        "# Drop columns 1-3 as it is now encoded\n",
        "features_dataset = features_dataset.drop(features_dataset.iloc[:,:3],axis = 1)\n",
        "\n",
        "# Join the encoded df\n",
        "features_dataset = features_dataset.join(one_hot)"
      ],
      "execution_count": 0,
      "outputs": []
    },
    {
      "metadata": {
        "id": "__-tFMaoVnVV",
        "colab_type": "code",
        "outputId": "c036a777-5b98-44df-b303-8bdafee6d2f5",
        "colab": {
          "base_uri": "https://localhost:8080/",
          "height": 35
        }
      },
      "cell_type": "code",
      "source": [
        "#Check new shape\n",
        "features_dataset.shape"
      ],
      "execution_count": 111,
      "outputs": [
        {
          "output_type": "execute_result",
          "data": {
            "text/plain": [
              "(140, 908)"
            ]
          },
          "metadata": {
            "tags": []
          },
          "execution_count": 111
        }
      ]
    },
    {
      "metadata": {
        "id": "WtoWCgI610yk",
        "colab_type": "text"
      },
      "cell_type": "markdown",
      "source": [
        "## Prepare Test and Train Data\n"
      ]
    },
    {
      "metadata": {
        "id": "nU7jUcZ75n8R",
        "colab_type": "code",
        "colab": {}
      },
      "cell_type": "code",
      "source": [
        "features, labels = features_dataset, y_cat\n",
        "\n",
        "train_features, test_features, train_labels, test_labels = train_test_split(\n",
        "        features, labels,\n",
        "        train_size=0.7, #70% training and 30% testing \n",
        "        test_size=0.3,\n",
        "        random_state=12, #Allow for reproducible results \n",
        "        # keep same proportion of 'target' in test and target data\n",
        "        stratify=labels\n",
        "    )"
      ],
      "execution_count": 0,
      "outputs": []
    },
    {
      "metadata": {
        "id": "VTnRWvE32DAU",
        "colab_type": "text"
      },
      "cell_type": "markdown",
      "source": [
        "## Grid search for hyperparameters"
      ]
    },
    {
      "metadata": {
        "id": "c-A05JfG--ZW",
        "colab_type": "code",
        "outputId": "5c1a07b7-f892-44fe-9bff-a74f410915e2",
        "colab": {
          "base_uri": "https://localhost:8080/",
          "height": 1437
        }
      },
      "cell_type": "code",
      "source": [
        "#Tune the batch size and epochs\n",
        "\n",
        "#Define model\n",
        "def create_model():\n",
        "  model = Sequential()\n",
        "  model.add(Dense(5,input_shape=(908,), activation='relu'))\n",
        "  model.add(Dropout(0.5))\n",
        "  model.add(Dense(7, activation='relu'))\n",
        "  model.add(Dropout(0.5))\n",
        "  model.add(Dense(3, activation='softmax'))\n",
        "  #Compile\n",
        "  model.compile('adam', 'categorical_crossentropy', metrics=['accuracy'])\n",
        "  return model\n",
        "\n",
        "# create model\n",
        "model = KerasClassifier(build_fn=create_model, verbose=1)\n",
        "# define the grid search parameters for Batch Size and Number of Epochs\n",
        "batch_size = [5, 10, 15, 20, 25]\n",
        "epochs = [10, 20, 30, 40]\n",
        "param_grid = dict(batch_size=batch_size, epochs=epochs)\n",
        "grid = GridSearchCV(estimator=model, param_grid=param_grid, n_jobs=-1)\n",
        "grid_result = grid.fit(train_features, train_labels, validation_data=(test_features, test_labels),verbose=1)\n",
        "# summarize results\n",
        "print(\"Best: %f using %s\" % (grid_result.best_score_, grid_result.best_params_))\n",
        "means = grid_result.cv_results_['mean_test_score']\n",
        "stds = grid_result.cv_results_['std_test_score']\n",
        "params = grid_result.cv_results_['params']\n",
        "for mean, stdev, param in zip(means, stds, params):\n",
        "    print(\"%f (%f) with: %r\" % (mean, stdev, param))"
      ],
      "execution_count": 0,
      "outputs": [
        {
          "output_type": "stream",
          "text": [
            "/usr/local/lib/python3.6/dist-packages/sklearn/model_selection/_split.py:2053: FutureWarning: You should specify a value for 'cv' instead of relying on the default value. The default value will change from 3 to 5 in version 0.22.\n",
            "  warnings.warn(CV_WARNING, FutureWarning)\n",
            "/usr/local/lib/python3.6/dist-packages/sklearn/externals/joblib/externals/loky/process_executor.py:706: UserWarning: A worker stopped while some jobs were given to the executor. This can be caused by a too short worker timeout or by a memory leak.\n",
            "  \"timeout or by a memory leak.\", UserWarning\n"
          ],
          "name": "stderr"
        },
        {
          "output_type": "stream",
          "text": [
            "WARNING:tensorflow:From /usr/local/lib/python3.6/dist-packages/tensorflow/python/framework/op_def_library.py:263: colocate_with (from tensorflow.python.framework.ops) is deprecated and will be removed in a future version.\n",
            "Instructions for updating:\n",
            "Colocations handled automatically by placer.\n",
            "WARNING:tensorflow:From /usr/local/lib/python3.6/dist-packages/keras/backend/tensorflow_backend.py:3445: calling dropout (from tensorflow.python.ops.nn_ops) with keep_prob is deprecated and will be removed in a future version.\n",
            "Instructions for updating:\n",
            "Please use `rate` instead of `keep_prob`. Rate should be set to `rate = 1 - keep_prob`.\n"
          ],
          "name": "stdout"
        },
        {
          "output_type": "stream",
          "text": [
            "/usr/local/lib/python3.6/dist-packages/sklearn/model_selection/_search.py:841: DeprecationWarning: The default of the `iid` parameter will change from True to False in version 0.22 and will be removed in 0.24. This will change numeric results when test-set sizes are unequal.\n",
            "  DeprecationWarning)\n"
          ],
          "name": "stderr"
        },
        {
          "output_type": "stream",
          "text": [
            "WARNING:tensorflow:From /usr/local/lib/python3.6/dist-packages/tensorflow/python/ops/math_ops.py:3066: to_int32 (from tensorflow.python.ops.math_ops) is deprecated and will be removed in a future version.\n",
            "Instructions for updating:\n",
            "Use tf.cast instead.\n",
            "Train on 98 samples, validate on 42 samples\n",
            "Epoch 1/20\n",
            "98/98 [==============================] - 1s 10ms/step - loss: 1.4079 - acc: 0.4796 - val_loss: 1.3979 - val_acc: 0.4048\n",
            "Epoch 2/20\n",
            "98/98 [==============================] - 0s 274us/step - loss: 1.4177 - acc: 0.5408 - val_loss: 1.2768 - val_acc: 0.4762\n",
            "Epoch 3/20\n",
            "98/98 [==============================] - 0s 279us/step - loss: 1.3880 - acc: 0.5000 - val_loss: 1.1525 - val_acc: 0.5238\n",
            "Epoch 4/20\n",
            "98/98 [==============================] - 0s 298us/step - loss: 1.4751 - acc: 0.5408 - val_loss: 1.1029 - val_acc: 0.5238\n",
            "Epoch 5/20\n",
            "98/98 [==============================] - 0s 280us/step - loss: 1.1681 - acc: 0.5714 - val_loss: 1.0972 - val_acc: 0.5238\n",
            "Epoch 6/20\n",
            "98/98 [==============================] - 0s 292us/step - loss: 1.0741 - acc: 0.5204 - val_loss: 1.0905 - val_acc: 0.5238\n",
            "Epoch 7/20\n",
            "98/98 [==============================] - 0s 310us/step - loss: 1.0518 - acc: 0.5510 - val_loss: 1.0866 - val_acc: 0.5714\n",
            "Epoch 8/20\n",
            "98/98 [==============================] - 0s 278us/step - loss: 1.0171 - acc: 0.5306 - val_loss: 1.0922 - val_acc: 0.5714\n",
            "Epoch 9/20\n",
            "98/98 [==============================] - 0s 295us/step - loss: 1.0220 - acc: 0.5714 - val_loss: 1.0919 - val_acc: 0.5476\n",
            "Epoch 10/20\n",
            "98/98 [==============================] - 0s 291us/step - loss: 0.9240 - acc: 0.5612 - val_loss: 1.1012 - val_acc: 0.5476\n",
            "Epoch 11/20\n",
            "98/98 [==============================] - 0s 289us/step - loss: 0.9901 - acc: 0.5408 - val_loss: 1.1003 - val_acc: 0.5238\n",
            "Epoch 12/20\n",
            "98/98 [==============================] - 0s 282us/step - loss: 0.9941 - acc: 0.5408 - val_loss: 1.0897 - val_acc: 0.5476\n",
            "Epoch 13/20\n",
            "98/98 [==============================] - 0s 300us/step - loss: 0.9368 - acc: 0.5714 - val_loss: 1.0903 - val_acc: 0.5476\n",
            "Epoch 14/20\n",
            "98/98 [==============================] - 0s 266us/step - loss: 0.9553 - acc: 0.5714 - val_loss: 1.1009 - val_acc: 0.5476\n",
            "Epoch 15/20\n",
            "98/98 [==============================] - 0s 282us/step - loss: 0.9212 - acc: 0.5408 - val_loss: 1.1208 - val_acc: 0.5476\n",
            "Epoch 16/20\n",
            "98/98 [==============================] - 0s 279us/step - loss: 0.9154 - acc: 0.5714 - val_loss: 1.1350 - val_acc: 0.5238\n",
            "Epoch 17/20\n",
            "98/98 [==============================] - 0s 300us/step - loss: 0.9841 - acc: 0.5102 - val_loss: 1.1545 - val_acc: 0.5238\n",
            "Epoch 18/20\n",
            "98/98 [==============================] - 0s 314us/step - loss: 0.9711 - acc: 0.5408 - val_loss: 1.2005 - val_acc: 0.5238\n",
            "Epoch 19/20\n",
            "98/98 [==============================] - 0s 288us/step - loss: 0.9597 - acc: 0.5816 - val_loss: 1.2293 - val_acc: 0.5238\n",
            "Epoch 20/20\n",
            "98/98 [==============================] - 0s 285us/step - loss: 0.9459 - acc: 0.5918 - val_loss: 1.2229 - val_acc: 0.5238\n",
            "Best: 0.612245 using {'batch_size': 25, 'epochs': 20}\n",
            "0.500000 (0.069856) with: {'batch_size': 5, 'epochs': 10}\n",
            "0.540816 (0.019560) with: {'batch_size': 5, 'epochs': 20}\n",
            "0.530612 (0.033338) with: {'batch_size': 5, 'epochs': 30}\n",
            "0.571429 (0.050124) with: {'batch_size': 5, 'epochs': 40}\n",
            "0.520408 (0.039917) with: {'batch_size': 10, 'epochs': 10}\n",
            "0.500000 (0.045261) with: {'batch_size': 10, 'epochs': 20}\n",
            "0.591837 (0.062185) with: {'batch_size': 10, 'epochs': 30}\n",
            "0.571429 (0.046628) with: {'batch_size': 10, 'epochs': 40}\n",
            "0.530612 (0.070271) with: {'batch_size': 15, 'epochs': 10}\n",
            "0.540816 (0.059922) with: {'batch_size': 15, 'epochs': 20}\n",
            "0.591837 (0.075133) with: {'batch_size': 15, 'epochs': 30}\n",
            "0.581633 (0.039610) with: {'batch_size': 15, 'epochs': 40}\n",
            "0.479592 (0.061381) with: {'batch_size': 20, 'epochs': 10}\n",
            "0.540816 (0.044463) with: {'batch_size': 20, 'epochs': 20}\n",
            "0.571429 (0.025634) with: {'batch_size': 20, 'epochs': 30}\n",
            "0.551020 (0.007993) with: {'batch_size': 20, 'epochs': 40}\n",
            "0.561224 (0.032466) with: {'batch_size': 25, 'epochs': 10}\n",
            "0.612245 (0.069311) with: {'batch_size': 25, 'epochs': 20}\n",
            "0.540816 (0.070653) with: {'batch_size': 25, 'epochs': 30}\n",
            "0.551020 (0.050375) with: {'batch_size': 25, 'epochs': 40}\n"
          ],
          "name": "stdout"
        }
      ]
    },
    {
      "metadata": {
        "id": "tpyAxPCSfh7y",
        "colab_type": "code",
        "colab": {
          "base_uri": "https://localhost:8080/",
          "height": 1037
        },
        "outputId": "6e491970-28ff-4bc2-d379-b37308c1c53d"
      },
      "cell_type": "code",
      "source": [
        "#Tune the Training Optimization Algorithm\n",
        "\n",
        "def create_model(optimizer='adam'):\n",
        "  model = Sequential()\n",
        "  model.add(Dense(5,input_shape=(908,), activation='relu'))\n",
        "  model.add(Dropout(0.5))\n",
        "  model.add(Dense(7, activation='relu'))\n",
        "  model.add(Dropout(0.5))\n",
        "  model.add(Dense(3, activation='softmax'))\n",
        "  #Compile\n",
        "  model.compile('adam', 'categorical_crossentropy', metrics=['accuracy'])\n",
        "  return model\n",
        "\n",
        "# create model\n",
        "model = KerasClassifier(build_fn=create_model, epochs=20, batch_size=25, verbose=0)\n",
        "\n",
        "# define the grid search parameters for Batch Size and Number of Epochs\n",
        "optimizer = ['SGD', 'RMSprop', 'Adagrad', 'Adadelta', 'Adam', 'Adamax', 'Nadam']\n",
        "param_grid = dict(optimizer=optimizer)\n",
        "grid = GridSearchCV(estimator=model, param_grid=param_grid, n_jobs=-1)\n",
        "grid_result = grid.fit(train_features, train_labels, validation_data=(test_features, test_labels),verbose=1)\n",
        "\n",
        "# summarize results\n",
        "print(\"Best: %f using %s\" % (grid_result.best_score_, grid_result.best_params_))\n",
        "means = grid_result.cv_results_['mean_test_score']\n",
        "stds = grid_result.cv_results_['std_test_score']\n",
        "params = grid_result.cv_results_['params']\n",
        "for mean, stdev, param in zip(means, stds, params):\n",
        "    print(\"%f (%f) with: %r\" % (mean, stdev, param))"
      ],
      "execution_count": 113,
      "outputs": [
        {
          "output_type": "stream",
          "text": [
            "/usr/local/lib/python3.6/dist-packages/sklearn/model_selection/_split.py:2053: FutureWarning: You should specify a value for 'cv' instead of relying on the default value. The default value will change from 3 to 5 in version 0.22.\n",
            "  warnings.warn(CV_WARNING, FutureWarning)\n",
            "/usr/local/lib/python3.6/dist-packages/sklearn/externals/joblib/externals/loky/process_executor.py:706: UserWarning: A worker stopped while some jobs were given to the executor. This can be caused by a too short worker timeout or by a memory leak.\n",
            "  \"timeout or by a memory leak.\", UserWarning\n",
            "/usr/local/lib/python3.6/dist-packages/sklearn/model_selection/_search.py:841: DeprecationWarning: The default of the `iid` parameter will change from True to False in version 0.22 and will be removed in 0.24. This will change numeric results when test-set sizes are unequal.\n",
            "  DeprecationWarning)\n"
          ],
          "name": "stderr"
        },
        {
          "output_type": "stream",
          "text": [
            "Train on 98 samples, validate on 42 samples\n",
            "Epoch 1/20\n",
            "98/98 [==============================] - 3s 31ms/step - loss: 1.4598 - acc: 0.4388 - val_loss: 1.3296 - val_acc: 0.3810\n",
            "Epoch 2/20\n",
            "98/98 [==============================] - 0s 318us/step - loss: 1.3192 - acc: 0.4694 - val_loss: 1.2722 - val_acc: 0.3810\n",
            "Epoch 3/20\n",
            "98/98 [==============================] - 0s 313us/step - loss: 1.2085 - acc: 0.5102 - val_loss: 1.2406 - val_acc: 0.3810\n",
            "Epoch 4/20\n",
            "98/98 [==============================] - 0s 291us/step - loss: 1.2635 - acc: 0.5204 - val_loss: 1.2411 - val_acc: 0.3810\n",
            "Epoch 5/20\n",
            "98/98 [==============================] - 0s 284us/step - loss: 1.0218 - acc: 0.5102 - val_loss: 1.2445 - val_acc: 0.4286\n",
            "Epoch 6/20\n",
            "98/98 [==============================] - 0s 298us/step - loss: 1.0142 - acc: 0.5612 - val_loss: 1.2328 - val_acc: 0.4524\n",
            "Epoch 7/20\n",
            "98/98 [==============================] - 0s 334us/step - loss: 1.0739 - acc: 0.5306 - val_loss: 1.2232 - val_acc: 0.4762\n",
            "Epoch 8/20\n",
            "98/98 [==============================] - 0s 419us/step - loss: 1.0053 - acc: 0.5408 - val_loss: 1.2080 - val_acc: 0.5000\n",
            "Epoch 9/20\n",
            "98/98 [==============================] - 0s 311us/step - loss: 1.1533 - acc: 0.5510 - val_loss: 1.1920 - val_acc: 0.5238\n",
            "Epoch 10/20\n",
            "98/98 [==============================] - 0s 300us/step - loss: 1.1299 - acc: 0.5306 - val_loss: 1.1639 - val_acc: 0.5714\n",
            "Epoch 11/20\n",
            "98/98 [==============================] - 0s 326us/step - loss: 0.9804 - acc: 0.5918 - val_loss: 1.1394 - val_acc: 0.5714\n",
            "Epoch 12/20\n",
            "98/98 [==============================] - 0s 300us/step - loss: 0.9772 - acc: 0.5306 - val_loss: 1.1138 - val_acc: 0.5714\n",
            "Epoch 13/20\n",
            "98/98 [==============================] - 0s 307us/step - loss: 0.9723 - acc: 0.5612 - val_loss: 1.0943 - val_acc: 0.5714\n",
            "Epoch 14/20\n",
            "98/98 [==============================] - 0s 316us/step - loss: 0.9405 - acc: 0.5714 - val_loss: 1.0713 - val_acc: 0.5714\n",
            "Epoch 15/20\n",
            "98/98 [==============================] - 0s 348us/step - loss: 0.9910 - acc: 0.5000 - val_loss: 1.0664 - val_acc: 0.5714\n",
            "Epoch 16/20\n",
            "98/98 [==============================] - 0s 352us/step - loss: 0.9527 - acc: 0.5714 - val_loss: 1.0669 - val_acc: 0.5952\n",
            "Epoch 17/20\n",
            "98/98 [==============================] - 0s 313us/step - loss: 0.9878 - acc: 0.5306 - val_loss: 1.0677 - val_acc: 0.5952\n",
            "Epoch 18/20\n",
            "98/98 [==============================] - 0s 295us/step - loss: 0.9822 - acc: 0.5408 - val_loss: 1.0756 - val_acc: 0.5952\n",
            "Epoch 19/20\n",
            "98/98 [==============================] - 0s 317us/step - loss: 0.9201 - acc: 0.5816 - val_loss: 1.0801 - val_acc: 0.5952\n",
            "Epoch 20/20\n",
            "98/98 [==============================] - 0s 348us/step - loss: 0.9280 - acc: 0.5510 - val_loss: 1.0852 - val_acc: 0.5952\n",
            "Best: 0.571429 using {'optimizer': 'Adagrad'}\n",
            "0.530612 (0.076144) with: {'optimizer': 'SGD'}\n",
            "0.500000 (0.037302) with: {'optimizer': 'RMSprop'}\n",
            "0.571429 (0.050124) with: {'optimizer': 'Adagrad'}\n",
            "0.540816 (0.040242) with: {'optimizer': 'Adadelta'}\n",
            "0.489796 (0.047166) with: {'optimizer': 'Adam'}\n",
            "0.520408 (0.056802) with: {'optimizer': 'Adamax'}\n",
            "0.479592 (0.061381) with: {'optimizer': 'Nadam'}\n"
          ],
          "name": "stdout"
        }
      ]
    },
    {
      "metadata": {
        "id": "Vk_4kZe9iD6x",
        "colab_type": "code",
        "outputId": "7bafd767-3a97-4f45-e325-856af7a22bac",
        "colab": {
          "base_uri": "https://localhost:8080/",
          "height": 3728
        }
      },
      "cell_type": "code",
      "source": [
        "# Tune the Number of Neurons in the Hidden Layer\n",
        "\n",
        "def create_model(neurons1=1,neurons2=1):\n",
        "  model = Sequential()\n",
        "  model.add(Dense(neurons1,input_shape=(908,), activation='relu'))\n",
        "  model.add(Dropout(0.5))\n",
        "  model.add(Dense(neurons2, activation='relu'))\n",
        "  model.add(Dropout(0.5))\n",
        "  model.add(Dense(3, activation='softmax'))\n",
        "  \n",
        "  #Compile\n",
        "  model.compile('RMSprop', 'categorical_crossentropy', metrics=['accuracy'])\n",
        "  return model\n",
        "\n",
        "# create model\n",
        "model = KerasClassifier(build_fn=create_model, epochs=20, batch_size=25, verbose=0)\n",
        "\n",
        "# define the grid search parameters\n",
        "neurons1 = [3,4 ,5,6,7,8,9,10,11,12,13,14 ,15,16]\n",
        "neurons2 = [3,4 ,5,6,7,8,9,10,11,12,13,14,15,16]\n",
        "\n",
        "param_grid = dict(neurons1=neurons1, neurons2=neurons2 )\n",
        "grid = GridSearchCV(estimator=model, param_grid=param_grid, n_jobs=-1)\n",
        "grid_result = grid.fit(train_features, train_labels, validation_data=(test_features, test_labels),verbose=0)\n",
        "\n",
        "# summarize results\n",
        "print(\"Best: %f using %s\" % (grid_result.best_score_, grid_result.best_params_))\n",
        "means = grid_result.cv_results_['mean_test_score']\n",
        "stds = grid_result.cv_results_['std_test_score']\n",
        "params = grid_result.cv_results_['params']\n",
        "for mean, stdev, param in zip(means, stds, params):\n",
        "    print(\"%f (%f) with: %r\" % (mean, stdev, param))\n",
        "\n",
        "\n"
      ],
      "execution_count": 0,
      "outputs": [
        {
          "output_type": "stream",
          "text": [
            "/usr/local/lib/python3.6/dist-packages/sklearn/model_selection/_split.py:2053: FutureWarning: You should specify a value for 'cv' instead of relying on the default value. The default value will change from 3 to 5 in version 0.22.\n",
            "  warnings.warn(CV_WARNING, FutureWarning)\n",
            "/usr/local/lib/python3.6/dist-packages/sklearn/externals/joblib/externals/loky/process_executor.py:706: UserWarning: A worker stopped while some jobs were given to the executor. This can be caused by a too short worker timeout or by a memory leak.\n",
            "  \"timeout or by a memory leak.\", UserWarning\n",
            "/usr/local/lib/python3.6/dist-packages/sklearn/model_selection/_search.py:841: DeprecationWarning: The default of the `iid` parameter will change from True to False in version 0.22 and will be removed in 0.24. This will change numeric results when test-set sizes are unequal.\n",
            "  DeprecationWarning)\n"
          ],
          "name": "stderr"
        },
        {
          "output_type": "stream",
          "text": [
            "Best: 0.602041 using {'neurons1': 3, 'neurons2': 10}\n",
            "0.540816 (0.050181) with: {'neurons1': 3, 'neurons2': 3}\n",
            "0.591837 (0.054836) with: {'neurons1': 3, 'neurons2': 4}\n",
            "0.520408 (0.025989) with: {'neurons1': 3, 'neurons2': 5}\n",
            "0.479592 (0.063774) with: {'neurons1': 3, 'neurons2': 6}\n",
            "0.571429 (0.006217) with: {'neurons1': 3, 'neurons2': 7}\n",
            "0.500000 (0.057318) with: {'neurons1': 3, 'neurons2': 8}\n",
            "0.500000 (0.126231) with: {'neurons1': 3, 'neurons2': 9}\n",
            "0.602041 (0.040584) with: {'neurons1': 3, 'neurons2': 10}\n",
            "0.540816 (0.070653) with: {'neurons1': 3, 'neurons2': 11}\n",
            "0.520408 (0.025989) with: {'neurons1': 3, 'neurons2': 12}\n",
            "0.510204 (0.047166) with: {'neurons1': 3, 'neurons2': 13}\n",
            "0.561224 (0.075383) with: {'neurons1': 3, 'neurons2': 14}\n",
            "0.469388 (0.054112) with: {'neurons1': 3, 'neurons2': 15}\n",
            "0.510204 (0.050241) with: {'neurons1': 3, 'neurons2': 16}\n",
            "0.520408 (0.157707) with: {'neurons1': 4, 'neurons2': 3}\n",
            "0.479592 (0.025989) with: {'neurons1': 4, 'neurons2': 4}\n",
            "0.510204 (0.102451) with: {'neurons1': 4, 'neurons2': 5}\n",
            "0.520408 (0.007549) with: {'neurons1': 4, 'neurons2': 6}\n",
            "0.489796 (0.031429) with: {'neurons1': 4, 'neurons2': 7}\n",
            "0.520408 (0.120469) with: {'neurons1': 4, 'neurons2': 8}\n",
            "0.469388 (0.056982) with: {'neurons1': 4, 'neurons2': 9}\n",
            "0.448980 (0.108692) with: {'neurons1': 4, 'neurons2': 10}\n",
            "0.540816 (0.112921) with: {'neurons1': 4, 'neurons2': 11}\n",
            "0.520408 (0.031837) with: {'neurons1': 4, 'neurons2': 12}\n",
            "0.408163 (0.032182) with: {'neurons1': 4, 'neurons2': 13}\n",
            "0.520408 (0.068733) with: {'neurons1': 4, 'neurons2': 14}\n",
            "0.510204 (0.063874) with: {'neurons1': 4, 'neurons2': 15}\n",
            "0.530612 (0.106601) with: {'neurons1': 4, 'neurons2': 16}\n",
            "0.510204 (0.044096) with: {'neurons1': 5, 'neurons2': 3}\n",
            "0.510204 (0.061642) with: {'neurons1': 5, 'neurons2': 4}\n",
            "0.438776 (0.044408) with: {'neurons1': 5, 'neurons2': 5}\n",
            "0.459184 (0.139697) with: {'neurons1': 5, 'neurons2': 6}\n",
            "0.540816 (0.068359) with: {'neurons1': 5, 'neurons2': 7}\n",
            "0.540816 (0.006661) with: {'neurons1': 5, 'neurons2': 8}\n",
            "0.540816 (0.006661) with: {'neurons1': 5, 'neurons2': 9}\n",
            "0.510204 (0.099726) with: {'neurons1': 5, 'neurons2': 10}\n",
            "0.540816 (0.025745) with: {'neurons1': 5, 'neurons2': 11}\n",
            "0.530612 (0.076144) with: {'neurons1': 5, 'neurons2': 12}\n",
            "0.520408 (0.106867) with: {'neurons1': 5, 'neurons2': 13}\n",
            "0.540816 (0.019560) with: {'neurons1': 5, 'neurons2': 14}\n",
            "0.591837 (0.062185) with: {'neurons1': 5, 'neurons2': 15}\n",
            "0.520408 (0.081826) with: {'neurons1': 5, 'neurons2': 16}\n",
            "0.530612 (0.033338) with: {'neurons1': 6, 'neurons2': 3}\n",
            "0.581633 (0.050447) with: {'neurons1': 6, 'neurons2': 4}\n",
            "0.520408 (0.047439) with: {'neurons1': 6, 'neurons2': 5}\n",
            "0.591837 (0.054836) with: {'neurons1': 6, 'neurons2': 6}\n",
            "0.561224 (0.044408) with: {'neurons1': 6, 'neurons2': 7}\n",
            "0.530612 (0.033338) with: {'neurons1': 6, 'neurons2': 8}\n",
            "0.428571 (0.136351) with: {'neurons1': 6, 'neurons2': 9}\n",
            "0.520408 (0.025989) with: {'neurons1': 6, 'neurons2': 10}\n",
            "0.459184 (0.081036) with: {'neurons1': 6, 'neurons2': 11}\n",
            "0.571429 (0.096515) with: {'neurons1': 6, 'neurons2': 12}\n",
            "0.530612 (0.112037) with: {'neurons1': 6, 'neurons2': 13}\n",
            "0.479592 (0.059054) with: {'neurons1': 6, 'neurons2': 14}\n",
            "0.520408 (0.031837) with: {'neurons1': 6, 'neurons2': 15}\n",
            "0.448980 (0.063676) with: {'neurons1': 6, 'neurons2': 16}\n",
            "0.489796 (0.095418) with: {'neurons1': 7, 'neurons2': 3}\n",
            "0.489796 (0.083713) with: {'neurons1': 7, 'neurons2': 4}\n",
            "0.540816 (0.061905) with: {'neurons1': 7, 'neurons2': 5}\n",
            "0.510204 (0.044096) with: {'neurons1': 7, 'neurons2': 6}\n",
            "0.602041 (0.083610) with: {'neurons1': 7, 'neurons2': 7}\n",
            "0.438776 (0.062177) with: {'neurons1': 7, 'neurons2': 8}\n",
            "0.510204 (0.068545) with: {'neurons1': 7, 'neurons2': 9}\n",
            "0.510204 (0.025863) with: {'neurons1': 7, 'neurons2': 10}\n",
            "0.551020 (0.105627) with: {'neurons1': 7, 'neurons2': 11}\n",
            "0.500000 (0.147418) with: {'neurons1': 7, 'neurons2': 12}\n",
            "0.530612 (0.054112) with: {'neurons1': 7, 'neurons2': 13}\n",
            "0.571429 (0.044832) with: {'neurons1': 7, 'neurons2': 14}\n",
            "0.479592 (0.063774) with: {'neurons1': 7, 'neurons2': 15}\n",
            "0.316327 (0.031354) with: {'neurons1': 7, 'neurons2': 16}\n",
            "0.571429 (0.050124) with: {'neurons1': 8, 'neurons2': 3}\n",
            "0.479592 (0.157707) with: {'neurons1': 8, 'neurons2': 4}\n",
            "0.561224 (0.032466) with: {'neurons1': 8, 'neurons2': 5}\n",
            "0.428571 (0.040411) with: {'neurons1': 8, 'neurons2': 6}\n",
            "0.448980 (0.026121) with: {'neurons1': 8, 'neurons2': 7}\n",
            "0.520408 (0.018882) with: {'neurons1': 8, 'neurons2': 8}\n",
            "0.489796 (0.050241) with: {'neurons1': 8, 'neurons2': 9}\n",
            "0.459184 (0.036858) with: {'neurons1': 8, 'neurons2': 10}\n",
            "0.459184 (0.040242) with: {'neurons1': 8, 'neurons2': 11}\n",
            "0.469388 (0.012442) with: {'neurons1': 8, 'neurons2': 12}\n",
            "0.500000 (0.045261) with: {'neurons1': 8, 'neurons2': 13}\n",
            "0.520408 (0.031837) with: {'neurons1': 8, 'neurons2': 14}\n",
            "0.540816 (0.040242) with: {'neurons1': 8, 'neurons2': 15}\n",
            "0.551020 (0.050375) with: {'neurons1': 8, 'neurons2': 16}\n",
            "0.479592 (0.039917) with: {'neurons1': 9, 'neurons2': 3}\n",
            "0.469388 (0.012442) with: {'neurons1': 9, 'neurons2': 4}\n",
            "0.510204 (0.047166) with: {'neurons1': 9, 'neurons2': 5}\n",
            "0.469388 (0.021316) with: {'neurons1': 9, 'neurons2': 6}\n",
            "0.510204 (0.105929) with: {'neurons1': 9, 'neurons2': 7}\n",
            "0.540816 (0.085447) with: {'neurons1': 9, 'neurons2': 8}\n",
            "0.500000 (0.037302) with: {'neurons1': 9, 'neurons2': 9}\n",
            "0.459184 (0.056005) with: {'neurons1': 9, 'neurons2': 10}\n",
            "0.500000 (0.012434) with: {'neurons1': 9, 'neurons2': 11}\n",
            "0.551020 (0.057201) with: {'neurons1': 9, 'neurons2': 12}\n",
            "0.418367 (0.039610) with: {'neurons1': 9, 'neurons2': 13}\n",
            "0.500000 (0.082068) with: {'neurons1': 9, 'neurons2': 14}\n",
            "0.438776 (0.101639) with: {'neurons1': 9, 'neurons2': 15}\n",
            "0.459184 (0.044463) with: {'neurons1': 9, 'neurons2': 16}\n",
            "0.438776 (0.164637) with: {'neurons1': 10, 'neurons2': 3}\n",
            "0.571429 (0.109991) with: {'neurons1': 10, 'neurons2': 4}\n",
            "0.479592 (0.081826) with: {'neurons1': 10, 'neurons2': 5}\n",
            "0.459184 (0.115460) with: {'neurons1': 10, 'neurons2': 6}\n",
            "0.489796 (0.031429) with: {'neurons1': 10, 'neurons2': 7}\n",
            "0.551020 (0.082865) with: {'neurons1': 10, 'neurons2': 8}\n",
            "0.459184 (0.081036) with: {'neurons1': 10, 'neurons2': 9}\n",
            "0.581633 (0.090914) with: {'neurons1': 10, 'neurons2': 10}\n",
            "0.428571 (0.019904) with: {'neurons1': 10, 'neurons2': 11}\n",
            "0.489796 (0.031429) with: {'neurons1': 10, 'neurons2': 12}\n",
            "0.428571 (0.049736) with: {'neurons1': 10, 'neurons2': 13}\n",
            "0.571429 (0.006217) with: {'neurons1': 10, 'neurons2': 14}\n",
            "0.530612 (0.077590) with: {'neurons1': 10, 'neurons2': 15}\n",
            "0.520408 (0.047439) with: {'neurons1': 10, 'neurons2': 16}\n",
            "0.510204 (0.044096) with: {'neurons1': 11, 'neurons2': 3}\n",
            "0.530612 (0.112037) with: {'neurons1': 11, 'neurons2': 4}\n",
            "0.510204 (0.102451) with: {'neurons1': 11, 'neurons2': 5}\n",
            "0.551020 (0.047715) with: {'neurons1': 11, 'neurons2': 6}\n",
            "0.540816 (0.059922) with: {'neurons1': 11, 'neurons2': 7}\n",
            "0.510204 (0.061642) with: {'neurons1': 11, 'neurons2': 8}\n",
            "0.459184 (0.081036) with: {'neurons1': 11, 'neurons2': 9}\n",
            "0.489796 (0.019219) with: {'neurons1': 11, 'neurons2': 10}\n",
            "0.551020 (0.093391) with: {'neurons1': 11, 'neurons2': 11}\n",
            "0.479592 (0.109016) with: {'neurons1': 11, 'neurons2': 12}\n",
            "0.561224 (0.022648) with: {'neurons1': 11, 'neurons2': 13}\n",
            "0.377551 (0.076921) with: {'neurons1': 11, 'neurons2': 14}\n",
            "0.510204 (0.069106) with: {'neurons1': 11, 'neurons2': 15}\n",
            "0.367347 (0.085410) with: {'neurons1': 11, 'neurons2': 16}\n",
            "0.551020 (0.026121) with: {'neurons1': 12, 'neurons2': 3}\n",
            "0.540816 (0.050181) with: {'neurons1': 12, 'neurons2': 4}\n",
            "0.520408 (0.007549) with: {'neurons1': 12, 'neurons2': 5}\n",
            "0.500000 (0.045261) with: {'neurons1': 12, 'neurons2': 6}\n",
            "0.500000 (0.099132) with: {'neurons1': 12, 'neurons2': 7}\n",
            "0.438776 (0.069026) with: {'neurons1': 12, 'neurons2': 8}\n",
            "0.489796 (0.031429) with: {'neurons1': 12, 'neurons2': 9}\n",
            "0.540816 (0.099696) with: {'neurons1': 12, 'neurons2': 10}\n",
            "0.408163 (0.037326) with: {'neurons1': 12, 'neurons2': 11}\n",
            "0.469388 (0.107324) with: {'neurons1': 12, 'neurons2': 12}\n",
            "0.561224 (0.077469) with: {'neurons1': 12, 'neurons2': 13}\n",
            "0.448980 (0.026121) with: {'neurons1': 12, 'neurons2': 14}\n",
            "0.418367 (0.088052) with: {'neurons1': 12, 'neurons2': 15}\n",
            "0.428571 (0.084561) with: {'neurons1': 12, 'neurons2': 16}\n",
            "0.408163 (0.186102) with: {'neurons1': 13, 'neurons2': 3}\n",
            "0.561225 (0.033636) with: {'neurons1': 13, 'neurons2': 4}\n",
            "0.489796 (0.031429) with: {'neurons1': 13, 'neurons2': 5}\n",
            "0.540816 (0.081036) with: {'neurons1': 13, 'neurons2': 6}\n",
            "0.438776 (0.081363) with: {'neurons1': 13, 'neurons2': 7}\n",
            "0.561225 (0.142318) with: {'neurons1': 13, 'neurons2': 8}\n",
            "0.561224 (0.056647) with: {'neurons1': 13, 'neurons2': 9}\n",
            "0.418367 (0.067989) with: {'neurons1': 13, 'neurons2': 10}\n",
            "0.500000 (0.045261) with: {'neurons1': 13, 'neurons2': 11}\n",
            "0.500000 (0.069856) with: {'neurons1': 13, 'neurons2': 12}\n",
            "0.551020 (0.018550) with: {'neurons1': 13, 'neurons2': 13}\n",
            "0.479592 (0.039917) with: {'neurons1': 13, 'neurons2': 14}\n",
            "0.530612 (0.098841) with: {'neurons1': 13, 'neurons2': 15}\n",
            "0.520408 (0.068733) with: {'neurons1': 13, 'neurons2': 16}\n",
            "0.551020 (0.050375) with: {'neurons1': 14, 'neurons2': 3}\n",
            "0.530612 (0.033338) with: {'neurons1': 14, 'neurons2': 4}\n",
            "0.459184 (0.006661) with: {'neurons1': 14, 'neurons2': 5}\n",
            "0.500000 (0.012434) with: {'neurons1': 14, 'neurons2': 6}\n",
            "0.561224 (0.069026) with: {'neurons1': 14, 'neurons2': 7}\n",
            "0.489796 (0.050241) with: {'neurons1': 14, 'neurons2': 8}\n",
            "0.540816 (0.063978) with: {'neurons1': 14, 'neurons2': 9}\n",
            "0.459184 (0.116127) with: {'neurons1': 14, 'neurons2': 10}\n",
            "0.489796 (0.044096) with: {'neurons1': 14, 'neurons2': 11}\n",
            "0.540816 (0.019560) with: {'neurons1': 14, 'neurons2': 12}\n",
            "0.551020 (0.051513) with: {'neurons1': 14, 'neurons2': 13}\n",
            "0.397959 (0.089418) with: {'neurons1': 14, 'neurons2': 14}\n",
            "0.469388 (0.131554) with: {'neurons1': 14, 'neurons2': 15}\n",
            "0.520408 (0.050306) with: {'neurons1': 14, 'neurons2': 16}\n",
            "0.591837 (0.020427) with: {'neurons1': 15, 'neurons2': 3}\n",
            "0.551020 (0.032247) with: {'neurons1': 15, 'neurons2': 4}\n",
            "0.448980 (0.047715) with: {'neurons1': 15, 'neurons2': 5}\n",
            "0.418367 (0.057602) with: {'neurons1': 15, 'neurons2': 6}\n",
            "0.479592 (0.043730) with: {'neurons1': 15, 'neurons2': 7}\n",
            "0.479592 (0.051069) with: {'neurons1': 15, 'neurons2': 8}\n",
            "0.438776 (0.106241) with: {'neurons1': 15, 'neurons2': 9}\n",
            "0.500000 (0.037302) with: {'neurons1': 15, 'neurons2': 10}\n",
            "0.561224 (0.087043) with: {'neurons1': 15, 'neurons2': 11}\n",
            "0.530612 (0.070271) with: {'neurons1': 15, 'neurons2': 12}\n",
            "0.510204 (0.056403) with: {'neurons1': 15, 'neurons2': 13}\n",
            "0.367347 (0.114803) with: {'neurons1': 15, 'neurons2': 14}\n",
            "0.561224 (0.097713) with: {'neurons1': 15, 'neurons2': 15}\n",
            "0.459184 (0.081036) with: {'neurons1': 15, 'neurons2': 16}\n",
            "0.571429 (0.050124) with: {'neurons1': 16, 'neurons2': 3}\n",
            "0.581633 (0.103955) with: {'neurons1': 16, 'neurons2': 4}\n",
            "0.530612 (0.082421) with: {'neurons1': 16, 'neurons2': 5}\n",
            "0.500000 (0.120071) with: {'neurons1': 16, 'neurons2': 6}\n",
            "0.459184 (0.099696) with: {'neurons1': 16, 'neurons2': 7}\n",
            "0.500000 (0.062171) with: {'neurons1': 16, 'neurons2': 8}\n",
            "0.510204 (0.085143) with: {'neurons1': 16, 'neurons2': 9}\n",
            "0.489796 (0.044096) with: {'neurons1': 16, 'neurons2': 10}\n",
            "0.500000 (0.099132) with: {'neurons1': 16, 'neurons2': 11}\n",
            "0.591837 (0.076661) with: {'neurons1': 16, 'neurons2': 12}\n",
            "0.500000 (0.069856) with: {'neurons1': 16, 'neurons2': 13}\n",
            "0.397959 (0.112357) with: {'neurons1': 16, 'neurons2': 14}\n",
            "0.418367 (0.169646) with: {'neurons1': 16, 'neurons2': 15}\n",
            "0.469388 (0.069441) with: {'neurons1': 16, 'neurons2': 16}\n"
          ],
          "name": "stdout"
        }
      ]
    },
    {
      "metadata": {
        "id": "blQVBdJm_bUU",
        "colab_type": "code",
        "colab": {}
      },
      "cell_type": "code",
      "source": [
        "#Run the model with the optimal parameters\n",
        "model = Sequential()\n",
        "model.add(Dense(5,input_shape=(908,), activation='relu'))\n",
        "model.add(Dropout(0.5))\n",
        "model.add(Dense(5, activation='relu'))\n",
        "model.add(Dropout(0.5))\n",
        "model.add(Dense(3, activation='softmax'))\n",
        "\n",
        "#Compile\n",
        "model.compile('RMSprop', 'categorical_crossentropy', metrics=['accuracy'])\n",
        "\n",
        "# checkpoint\n",
        "filepath=\"weights.best.hdf5\"\n",
        "checkpoint = ModelCheckpoint(filepath, monitor='val_acc', verbose=0, save_best_only=True, mode='max')\n",
        "callbacks_list = [checkpoint]"
      ],
      "execution_count": 0,
      "outputs": []
    },
    {
      "metadata": {
        "id": "SCSDeak8_fdT",
        "colab_type": "code",
        "colab": {}
      },
      "cell_type": "code",
      "source": [
        "#fit\n",
        "history=model.fit(train_features, train_labels, validation_data=(test_features, test_labels),verbose=1,epochs=251, callbacks=callbacks_list) "
      ],
      "execution_count": 0,
      "outputs": []
    },
    {
      "metadata": {
        "id": "Yyem-2d6bjuh",
        "colab_type": "code",
        "outputId": "7ef590ef-7544-48b7-8fcb-9d02821ad377",
        "colab": {
          "base_uri": "https://localhost:8080/",
          "height": 347
        }
      },
      "cell_type": "code",
      "source": [
        "#Virtualize Training\n",
        "fig, ax = plt.subplots(2,1)\n",
        "ax[0].plot(history.history['acc'], color='b', label=\"Training accuracy\")\n",
        "ax[0].plot(history.history['val_acc'], color='r', label=\"validation accuracy\",axes =ax[0])\n",
        "legend = ax[0].legend(loc='best', shadow=True)"
      ],
      "execution_count": 93,
      "outputs": [
        {
          "output_type": "display_data",
          "data": {
            "image/png": "[encoded data removed]",
            "text/plain": [
              "<Figure size 576x396 with 2 Axes>"
            ]
          },
          "metadata": {
            "tags": []
          }
        }
      ]
    },
    {
      "metadata": {
        "id": "pKE6dtuK_F7d",
        "colab_type": "text"
      },
      "cell_type": "markdown",
      "source": [
        "## Testing the model on the entire dataset with the best weights"
      ]
    },
    {
      "metadata": {
        "id": "tHSVVCA8p8wq",
        "colab_type": "code",
        "outputId": "24040b70-8e27-4bf6-d3d0-ceae2e761042",
        "colab": {
          "base_uri": "https://localhost:8080/",
          "height": 54
        }
      },
      "cell_type": "code",
      "source": [
        "#Loading Check-Pointed\n",
        "#The checkpoint only includes the model weights. It assumes you know the network structure.\n",
        "\n",
        "model = Sequential()\n",
        "model.add(Dense(5,input_shape=(908,), activation='relu'))\n",
        "model.add(Dropout(0.5))\n",
        "model.add(Dense(5, activation='relu'))\n",
        "model.add(Dropout(0.5))\n",
        "model.add(Dense(3, activation='softmax'))\n",
        "\n",
        "# load weights\n",
        "model.load_weights(\"weights.best.hdf5\")\n",
        "\n",
        "#Compile\n",
        "model.compile('RMSprop', 'categorical_crossentropy', metrics=['accuracy'])\n",
        "print(\"Created model and loaded weights from file\")\n",
        "\n",
        "# estimate accuracy on whole dataset using loaded weights\n",
        "scores = model.evaluate(train_features, train_labels, verbose=0)\n",
        "print(\"%s: %.2f%%\" % (model.metrics_names[1], scores[1]*100))"
      ],
      "execution_count": 100,
      "outputs": [
        {
          "output_type": "stream",
          "text": [
            "Created model and loaded weights from file\n",
            "acc: 77.55%\n"
          ],
          "name": "stdout"
        }
      ]
    },
    {
      "metadata": {
        "id": "dh2siqkT_MO0",
        "colab_type": "text"
      },
      "cell_type": "markdown",
      "source": [
        "## Preparing testing data"
      ]
    },
    {
      "metadata": {
        "id": "341iHUOtQTwS",
        "colab_type": "code",
        "outputId": "2aa1976f-ac72-459f-f338-baabe910c954",
        "colab": {
          "base_uri": "https://localhost:8080/",
          "height": 35
        }
      },
      "cell_type": "code",
      "source": [
        "#Load testing data\n",
        "testing_data=pd.read_csv('test_features.csv', header=None)\n",
        "print('Test dataset shape is: ' + str(testing_data.shape))\n"
      ],
      "execution_count": 94,
      "outputs": [
        {
          "output_type": "stream",
          "text": [
            "Test dataset shape is: (560, 903)\n"
          ],
          "name": "stdout"
        }
      ]
    },
    {
      "metadata": {
        "id": "5X58RLkDtDU_",
        "colab_type": "code",
        "colab": {}
      },
      "cell_type": "code",
      "source": [
        "# Get one hot encoding of columns 1-3 in the testing dataset\n",
        "one_hot = pd.get_dummies(testing_data.iloc[:,:3])\n",
        "\n",
        "# Drop columns 1-3 as it is now encoded\n",
        "testing_data = testing_data.drop(testing_data.iloc[:,:3],axis = 1)\n",
        "\n",
        "# Join the encoded df\n",
        "testing_data = testing_data.join(one_hot)"
      ],
      "execution_count": 0,
      "outputs": []
    },
    {
      "metadata": {
        "id": "iN69U-Gt_Rph",
        "colab_type": "text"
      },
      "cell_type": "markdown",
      "source": [
        "## Predict"
      ]
    },
    {
      "metadata": {
        "id": "YerEguaCrJGn",
        "colab_type": "code",
        "outputId": "b873b6ae-8f52-47a4-d27b-dea1678a9b61",
        "colab": {
          "base_uri": "https://localhost:8080/",
          "height": 35
        }
      },
      "cell_type": "code",
      "source": [
        "#After the model has been train we can make predictions\n",
        "\n",
        "y_pred = model.predict(testing_data)\n",
        "y_pred.shape"
      ],
      "execution_count": 96,
      "outputs": [
        {
          "output_type": "execute_result",
          "data": {
            "text/plain": [
              "(560, 3)"
            ]
          },
          "metadata": {
            "tags": []
          },
          "execution_count": 96
        }
      ]
    },
    {
      "metadata": {
        "id": "RA0p-g1MsBMR",
        "colab_type": "code",
        "outputId": "b56e3741-7d3f-45a5-9db4-b5f4d3f3b125",
        "colab": {
          "base_uri": "https://localhost:8080/",
          "height": 145
        }
      },
      "cell_type": "code",
      "source": [
        "y_pred"
      ],
      "execution_count": 97,
      "outputs": [
        {
          "output_type": "execute_result",
          "data": {
            "text/plain": [
              "array([[0.24498188, 0.42839113, 0.326627  ],\n",
              "       [0.01970868, 0.32594743, 0.6543439 ],\n",
              "       [0.46152616, 0.26516986, 0.273304  ],\n",
              "       ...,\n",
              "       [0.01410408, 0.2970675 , 0.68882847],\n",
              "       [0.6405557 , 0.32041278, 0.03903149],\n",
              "       [0.06898094, 0.40784532, 0.52317375]], dtype=float32)"
            ]
          },
          "metadata": {
            "tags": []
          },
          "execution_count": 97
        }
      ]
    },
    {
      "metadata": {
        "id": "EWOJOphP_aYx",
        "colab_type": "text"
      },
      "cell_type": "markdown",
      "source": [
        "## Convert the probabilities to values\n"
      ]
    },
    {
      "metadata": {
        "id": "vGWpNrJry3c2",
        "colab_type": "code",
        "colab": {}
      },
      "cell_type": "code",
      "source": [
        "answers=[]\n",
        "i=0\n",
        "\n",
        "for row in y_pred:\n",
        "  max_value = max(y_pred[i])\n",
        "  max_index = list(y_pred[i]).index(max_value)\n",
        "  answers.append(max_index)\n",
        "  i+=1"
      ],
      "execution_count": 0,
      "outputs": []
    },
    {
      "metadata": {
        "id": "ZpQN2lau_hvv",
        "colab_type": "text"
      },
      "cell_type": "markdown",
      "source": [
        "## Check that we got 560 answers"
      ]
    },
    {
      "metadata": {
        "id": "6rzJ1Nkq1Qy1",
        "colab_type": "code",
        "outputId": "6463917a-35fa-40de-9fb3-37adc1eb632c",
        "colab": {
          "base_uri": "https://localhost:8080/",
          "height": 35
        }
      },
      "cell_type": "code",
      "source": [
        "len(answers)"
      ],
      "execution_count": 0,
      "outputs": [
        {
          "output_type": "execute_result",
          "data": {
            "text/plain": [
              "560"
            ]
          },
          "metadata": {
            "tags": []
          },
          "execution_count": 115
        }
      ]
    },
    {
      "metadata": {
        "id": "y3_CUz3y_wI4",
        "colab_type": "text"
      },
      "cell_type": "markdown",
      "source": [
        "## Explore answers\n"
      ]
    },
    {
      "metadata": {
        "id": "Y0LAAu9r1i5h",
        "colab_type": "code",
        "colab": {}
      },
      "cell_type": "code",
      "source": [
        "answers"
      ],
      "execution_count": 0,
      "outputs": []
    },
    {
      "metadata": {
        "id": "TSg6UbBN_yWb",
        "colab_type": "text"
      },
      "cell_type": "markdown",
      "source": [
        "## Save to CSV file\n"
      ]
    },
    {
      "metadata": {
        "id": "oTdNgr8U1kgE",
        "colab_type": "code",
        "colab": {}
      },
      "cell_type": "code",
      "source": [
        "with open('test_predictions.csv', \"w\") as output:\n",
        "    writer = csv.writer(output, lineterminator='\\n')\n",
        "    for val in answers:\n",
        "        writer.writerow([val])    \n"
      ],
      "execution_count": 0,
      "outputs": []
    },
    {
      "metadata": {
        "id": "2-SREZ5nBHsV",
        "colab_type": "text"
      },
      "cell_type": "markdown",
      "source": [
        "## Check counts"
      ]
    },
    {
      "metadata": {
        "id": "e1kUqZ2J2FZO",
        "colab_type": "code",
        "outputId": "e03c9d01-013e-4b03-e147-2caae445e4d5",
        "colab": {
          "base_uri": "https://localhost:8080/",
          "height": 35
        }
      },
      "cell_type": "code",
      "source": [
        "my_dict = {i:answers.count(i) for i in answers}\n",
        "print (my_dict)"
      ],
      "execution_count": 115,
      "outputs": [
        {
          "output_type": "stream",
          "text": [
            "{1: 455, 2: 105}\n"
          ],
          "name": "stdout"
        }
      ]
    }
  ]
}