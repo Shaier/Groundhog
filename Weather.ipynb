{
 "cells": [
  {
   "cell_type": "code",
   "execution_count": 1,
   "metadata": {},
   "outputs": [],
   "source": [
    "#We'll be using LSTM (Long Short-Term Memory network)- \"type of recurrent neural network capable of remembering the past information and while predicting the future values, it takes this past information into account.\"\n",
    "#april 1st 2013 to dec 31 2018\n",
    "\n",
    "#Libraries and data\n",
    "import numpy as np\n",
    "import matplotlib.pyplot as plt\n",
    "import pandas as pd"
   ]
  },
  {
   "cell_type": "code",
   "execution_count": 107,
   "metadata": {},
   "outputs": [],
   "source": [
    "#Read data\n",
    "df=pd.read_csv('weather_train.csv')"
   ]
  },
  {
   "cell_type": "code",
   "execution_count": 103,
   "metadata": {},
   "outputs": [
    {
     "ename": "AttributeError",
     "evalue": "'numpy.ndarray' object has no attribute 'head'",
     "output_type": "error",
     "traceback": [
      "\u001b[1;31m---------------------------------------------------------------------------\u001b[0m",
      "\u001b[1;31mAttributeError\u001b[0m                            Traceback (most recent call last)",
      "\u001b[1;32m<ipython-input-103-004e939f8d76>\u001b[0m in \u001b[0;36m<module>\u001b[1;34m\u001b[0m\n\u001b[0;32m      1\u001b[0m \u001b[1;31m#explore data\u001b[0m\u001b[1;33m\u001b[0m\u001b[1;33m\u001b[0m\u001b[1;33m\u001b[0m\u001b[0m\n\u001b[1;32m----> 2\u001b[1;33m \u001b[0mprint\u001b[0m\u001b[1;33m(\u001b[0m\u001b[0mdf\u001b[0m\u001b[1;33m.\u001b[0m\u001b[0mhead\u001b[0m\u001b[1;33m(\u001b[0m\u001b[1;33m)\u001b[0m\u001b[1;33m)\u001b[0m\u001b[1;33m\u001b[0m\u001b[1;33m\u001b[0m\u001b[0m\n\u001b[0m\u001b[0;32m      3\u001b[0m \u001b[0mdf\u001b[0m\u001b[1;33m.\u001b[0m\u001b[0mshape\u001b[0m\u001b[1;33m\u001b[0m\u001b[1;33m\u001b[0m\u001b[0m\n",
      "\u001b[1;31mAttributeError\u001b[0m: 'numpy.ndarray' object has no attribute 'head'"
     ]
    }
   ],
   "source": [
    "#explore data\n",
    "print(df.head())\n",
    "df.shape"
   ]
  },
  {
   "cell_type": "code",
   "execution_count": 28,
   "metadata": {
    "collapsed": true
   },
   "outputs": [
    {
     "name": "stdout",
     "output_type": "stream",
     "text": [
      "[[60]\n",
      " [57]\n",
      " [53]\n",
      " ...\n",
      " [48]\n",
      " [48]\n",
      " [39]]\n"
     ]
    }
   ],
   "source": [
    "#We only care about the average temp\n",
    "df = df.iloc[:, 3:4].values\n",
    "print(df)"
   ]
  },
  {
   "cell_type": "code",
   "execution_count": 29,
   "metadata": {},
   "outputs": [
    {
     "name": "stderr",
     "output_type": "stream",
     "text": [
      "c:\\users\\sagi\\appdata\\local\\programs\\python\\python36\\lib\\site-packages\\sklearn\\utils\\validation.py:595: DataConversionWarning: Data with input dtype int64 was converted to float64 by MinMaxScaler.\n",
      "  warnings.warn(msg, DataConversionWarning)\n"
     ]
    }
   ],
   "source": [
    "#Data scaling\n",
    "from sklearn.preprocessing import MinMaxScaler\n",
    "scaler = MinMaxScaler(feature_range = (0, 1)) #scale the data between 0 and 1\n",
    "df_scaled = scaler.fit_transform(df)"
   ]
  },
  {
   "cell_type": "code",
   "execution_count": 30,
   "metadata": {},
   "outputs": [],
   "source": [
    "#predicting the avg temp based on the avg temp for the past 60 days\n",
    "\"the feature set should contain the temp values for the past 60 days\"\n",
    "\"the label (dependent var.) should be the temp at the 61st day\"\n",
    "features_set = []\n",
    "labels = []\n",
    "for i in range(60, 2101): #the data has 2101 records\n",
    "    features_set.append(df_scaled[i-60:i, 0]) #loop that starts from 61st record and stores all the previous 60 records to the feature_set list\"\n",
    "    labels.append(df_scaled[i, 0]) #the 61st record is stored in the labels list\n",
    "\n",
    "features_set, labels = np.array(features_set), np.array(labels)  #convert to numpy array\n",
    "#LSTM required a 3 dimension format so we'll convert ours\n",
    "#first dimension is the number of records or rows (1511 here)\n",
    "#second dimension is the number of time steps (60 here)\n",
    "#third dimension is the number of indicators (we are only using 1 feature - open, so 1 indicator)\n",
    "\n",
    "features_set = np.reshape(features_set, (features_set.shape[0], features_set.shape[1], 1))"
   ]
  },
  {
   "cell_type": "code",
   "execution_count": 31,
   "metadata": {},
   "outputs": [
    {
     "name": "stderr",
     "output_type": "stream",
     "text": [
      "Using TensorFlow backend.\n"
     ]
    }
   ],
   "source": [
    "#Define the model\n",
    "from keras.models import Sequential\n",
    "from keras.layers import Dense\n",
    "from keras.layers import LSTM\n",
    "from keras.layers import Dropout\n",
    "\n",
    "model = Sequential() #the model class. We will add LSTM, Dropout and Dense layers to this model.\n",
    "\n",
    "#Creating LSTM and Dropout Layers\n",
    "model.add(LSTM(units=50, return_sequences=True, input_shape=(features_set.shape[1], 1))) #use add() to add a layer\n",
    "\"The first parameter to the LSTM layer is the number of neurons or nodes that we want in the layer. The second parameter\" \\\n",
    "\" is return_sequences, which is set to true since we will add more layers to the model. The first parameter to the input_\" \\\n",
    "\"shape is the number of time steps while the last parameter is the number of indicators.\"\n",
    "\n",
    "#Adding a dropout layer to our model (to avoid over-fitting)\n",
    "model.add(Dropout(0.2))\n",
    "\n",
    "#Adding three more LSTM and dropout layers to our model\n",
    "model.add(LSTM(units=50, return_sequences=True))\n",
    "model.add(Dropout(0.2))\n",
    "\n",
    "model.add(LSTM(units=50, return_sequences=True))\n",
    "model.add(Dropout(0.2))\n",
    "\n",
    "model.add(LSTM(units=50))\n",
    "model.add(Dropout(0.2))\n",
    "\n",
    "#Creating Dense Layer\n",
    "\"To make our model more robust, we add a dense layer at the end of the model. The number of neurons in the dense layer\" \\\n",
    "\" will be set to 1 since we want to predict a single value in the output\"\n",
    "model.add(Dense(units = 1))"
   ]
  },
  {
   "cell_type": "code",
   "execution_count": 32,
   "metadata": {},
   "outputs": [],
   "source": [
    "#Compile the LSTM\n",
    "#adam optimizer to reduce the loss or to optimize the algorithm\n",
    "model.compile(optimizer = 'adam', loss = 'mean_squared_error') #mean squared error as loss function"
   ]
  },
  {
   "cell_type": "code",
   "execution_count": 33,
   "metadata": {
    "collapsed": true
   },
   "outputs": [
    {
     "name": "stdout",
     "output_type": "stream",
     "text": [
      "Epoch 1/100\n",
      "2041/2041 [==============================] - 16s 8ms/step - loss: 0.0448\n",
      "Epoch 2/100\n",
      "2041/2041 [==============================] - 10s 5ms/step - loss: 0.0146\n",
      "Epoch 3/100\n",
      "2041/2041 [==============================] - 10s 5ms/step - loss: 0.0129\n",
      "Epoch 4/100\n",
      "2041/2041 [==============================] - 10s 5ms/step - loss: 0.0129\n",
      "Epoch 5/100\n",
      "2041/2041 [==============================] - 10s 5ms/step - loss: 0.0121\n",
      "Epoch 6/100\n",
      "2041/2041 [==============================] - 10s 5ms/step - loss: 0.0124\n",
      "Epoch 7/100\n",
      "2041/2041 [==============================] - 10s 5ms/step - loss: 0.0120\n",
      "Epoch 8/100\n",
      "2041/2041 [==============================] - 10s 5ms/step - loss: 0.0120\n",
      "Epoch 9/100\n",
      "2041/2041 [==============================] - 10s 5ms/step - loss: 0.0111\n",
      "Epoch 10/100\n",
      "2041/2041 [==============================] - 10s 5ms/step - loss: 0.0104\n",
      "Epoch 11/100\n",
      "2041/2041 [==============================] - 10s 5ms/step - loss: 0.0113\n",
      "Epoch 12/100\n",
      "2041/2041 [==============================] - 10s 5ms/step - loss: 0.0110\n",
      "Epoch 13/100\n",
      "2041/2041 [==============================] - 10s 5ms/step - loss: 0.0104\n",
      "Epoch 14/100\n",
      "2041/2041 [==============================] - 10s 5ms/step - loss: 0.0106\n",
      "Epoch 15/100\n",
      "2041/2041 [==============================] - 10s 5ms/step - loss: 0.0104\n",
      "Epoch 16/100\n",
      "2041/2041 [==============================] - 10s 5ms/step - loss: 0.0114\n",
      "Epoch 17/100\n",
      "2041/2041 [==============================] - 10s 5ms/step - loss: 0.0100\n",
      "Epoch 18/100\n",
      "2041/2041 [==============================] - 10s 5ms/step - loss: 0.0097\n",
      "Epoch 19/100\n",
      "2041/2041 [==============================] - 10s 5ms/step - loss: 0.0099\n",
      "Epoch 20/100\n",
      "2041/2041 [==============================] - 10s 5ms/step - loss: 0.0103\n",
      "Epoch 21/100\n",
      "2041/2041 [==============================] - 10s 5ms/step - loss: 0.0092\n",
      "Epoch 22/100\n",
      "2041/2041 [==============================] - 10s 5ms/step - loss: 0.0089\n",
      "Epoch 23/100\n",
      "2041/2041 [==============================] - 10s 5ms/step - loss: 0.0093\n",
      "Epoch 24/100\n",
      "2041/2041 [==============================] - 10s 5ms/step - loss: 0.0091\n",
      "Epoch 25/100\n",
      "2041/2041 [==============================] - 10s 5ms/step - loss: 0.0090\n",
      "Epoch 26/100\n",
      "2041/2041 [==============================] - 10s 5ms/step - loss: 0.0083\n",
      "Epoch 27/100\n",
      "2041/2041 [==============================] - 10s 5ms/step - loss: 0.0077\n",
      "Epoch 28/100\n",
      "2041/2041 [==============================] - 10s 5ms/step - loss: 0.0074\n",
      "Epoch 29/100\n",
      "2041/2041 [==============================] - 10s 5ms/step - loss: 0.0072\n",
      "Epoch 30/100\n",
      "2041/2041 [==============================] - 10s 5ms/step - loss: 0.0068\n",
      "Epoch 31/100\n",
      "2041/2041 [==============================] - 10s 5ms/step - loss: 0.0063\n",
      "Epoch 32/100\n",
      "2041/2041 [==============================] - 10s 5ms/step - loss: 0.0062\n",
      "Epoch 33/100\n",
      "2041/2041 [==============================] - 10s 5ms/step - loss: 0.0063\n",
      "Epoch 34/100\n",
      "2041/2041 [==============================] - 10s 5ms/step - loss: 0.0060\n",
      "Epoch 35/100\n",
      "2041/2041 [==============================] - 10s 5ms/step - loss: 0.0058\n",
      "Epoch 36/100\n",
      "2041/2041 [==============================] - 10s 5ms/step - loss: 0.0053\n",
      "Epoch 37/100\n",
      "2041/2041 [==============================] - 10s 5ms/step - loss: 0.0056\n",
      "Epoch 38/100\n",
      "2041/2041 [==============================] - 10s 5ms/step - loss: 0.0057\n",
      "Epoch 39/100\n",
      "2041/2041 [==============================] - 10s 5ms/step - loss: 0.0049\n",
      "Epoch 40/100\n",
      "2041/2041 [==============================] - 10s 5ms/step - loss: 0.0052\n",
      "Epoch 41/100\n",
      "2041/2041 [==============================] - 10s 5ms/step - loss: 0.0053\n",
      "Epoch 42/100\n",
      "2041/2041 [==============================] - 11s 5ms/step - loss: 0.0051\n",
      "Epoch 43/100\n",
      "2041/2041 [==============================] - 11s 5ms/step - loss: 0.0049\n",
      "Epoch 44/100\n",
      "2041/2041 [==============================] - 11s 5ms/step - loss: 0.0049\n",
      "Epoch 45/100\n",
      "2041/2041 [==============================] - 11s 5ms/step - loss: 0.0048\n",
      "Epoch 46/100\n",
      "2041/2041 [==============================] - 11s 5ms/step - loss: 0.0052\n",
      "Epoch 47/100\n",
      "2041/2041 [==============================] - 11s 5ms/step - loss: 0.0048: 2s -\n",
      "Epoch 48/100\n",
      "2041/2041 [==============================] - 11s 5ms/step - loss: 0.0048\n",
      "Epoch 49/100\n",
      "2041/2041 [==============================] - 11s 5ms/step - loss: 0.0048\n",
      "Epoch 50/100\n",
      "2041/2041 [==============================] - 12s 6ms/step - loss: 0.0047\n",
      "Epoch 51/100\n",
      "2041/2041 [==============================] - 12s 6ms/step - loss: 0.0048\n",
      "Epoch 52/100\n",
      "2041/2041 [==============================] - 11s 6ms/step - loss: 0.0046\n",
      "Epoch 53/100\n",
      "2041/2041 [==============================] - 11s 6ms/step - loss: 0.0046\n",
      "Epoch 54/100\n",
      "2041/2041 [==============================] - 11s 6ms/step - loss: 0.0044\n",
      "Epoch 55/100\n",
      "2041/2041 [==============================] - 12s 6ms/step - loss: 0.0045\n",
      "Epoch 56/100\n",
      "2041/2041 [==============================] - 12s 6ms/step - loss: 0.0046\n",
      "Epoch 57/100\n",
      "2041/2041 [==============================] - 12s 6ms/step - loss: 0.0046: 1s - l\n",
      "Epoch 58/100\n",
      "2041/2041 [==============================] - 12s 6ms/step - loss: 0.0044\n",
      "Epoch 59/100\n",
      "2041/2041 [==============================] - 12s 6ms/step - loss: 0.0043\n",
      "Epoch 60/100\n",
      "2041/2041 [==============================] - 12s 6ms/step - loss: 0.0044:\n",
      "Epoch 61/100\n",
      "2041/2041 [==============================] - 12s 6ms/step - loss: 0.0043: 5s - loss:\n",
      "Epoch 62/100\n",
      "2041/2041 [==============================] - 12s 6ms/step - loss: 0.0043\n",
      "Epoch 63/100\n",
      "2041/2041 [==============================] - 12s 6ms/step - loss: 0.0042\n",
      "Epoch 64/100\n",
      "2041/2041 [==============================] - 12s 6ms/step - loss: 0.0044\n",
      "Epoch 65/100\n",
      "2041/2041 [==============================] - 12s 6ms/step - loss: 0.0044\n",
      "Epoch 66/100\n",
      "2041/2041 [==============================] - 12s 6ms/step - loss: 0.0042\n",
      "Epoch 67/100\n",
      "2041/2041 [==============================] - 13s 6ms/step - loss: 0.0041\n",
      "Epoch 68/100\n",
      "2041/2041 [==============================] - 13s 6ms/step - loss: 0.0041\n",
      "Epoch 69/100\n",
      "2041/2041 [==============================] - 13s 6ms/step - loss: 0.0043\n",
      "Epoch 70/100\n",
      "2041/2041 [==============================] - 13s 6ms/step - loss: 0.0042\n",
      "Epoch 71/100\n",
      "2041/2041 [==============================] - 12s 6ms/step - loss: 0.0043\n",
      "Epoch 72/100\n",
      "2041/2041 [==============================] - 12s 6ms/step - loss: 0.0040\n",
      "Epoch 73/100\n",
      "2041/2041 [==============================] - 12s 6ms/step - loss: 0.0041\n",
      "Epoch 74/100\n",
      "2041/2041 [==============================] - 13s 6ms/step - loss: 0.0041\n",
      "Epoch 75/100\n",
      "2041/2041 [==============================] - 13s 6ms/step - loss: 0.0042\n",
      "Epoch 76/100\n",
      "2041/2041 [==============================] - 13s 6ms/step - loss: 0.0040\n",
      "Epoch 77/100\n",
      "2041/2041 [==============================] - 13s 6ms/step - loss: 0.0040\n",
      "Epoch 78/100\n",
      "2041/2041 [==============================] - 13s 6ms/step - loss: 0.0040\n",
      "Epoch 79/100\n",
      "2041/2041 [==============================] - 13s 7ms/step - loss: 0.0041\n",
      "Epoch 80/100\n",
      "2041/2041 [==============================] - 14s 7ms/step - loss: 0.0040\n",
      "Epoch 81/100\n",
      "2041/2041 [==============================] - 14s 7ms/step - loss: 0.0039\n",
      "Epoch 82/100\n",
      "2041/2041 [==============================] - 13s 7ms/step - loss: 0.0042\n",
      "Epoch 83/100\n",
      "2041/2041 [==============================] - 13s 6ms/step - loss: 0.0039\n",
      "Epoch 84/100\n",
      "2041/2041 [==============================] - 13s 7ms/step - loss: 0.0040\n",
      "Epoch 85/100\n",
      "2041/2041 [==============================] - 13s 7ms/step - loss: 0.0038\n",
      "Epoch 86/100\n",
      "2041/2041 [==============================] - 13s 7ms/step - loss: 0.0041\n",
      "Epoch 87/100\n",
      "2041/2041 [==============================] - 13s 7ms/step - loss: 0.0040\n",
      "Epoch 88/100\n",
      "2041/2041 [==============================] - 14s 7ms/step - loss: 0.0041\n",
      "Epoch 89/100\n",
      "2041/2041 [==============================] - 13s 7ms/step - loss: 0.0042\n",
      "Epoch 90/100\n",
      "2041/2041 [==============================] - 14s 7ms/step - loss: 0.0039\n",
      "Epoch 91/100\n",
      "2041/2041 [==============================] - 14s 7ms/step - loss: 0.0040\n",
      "Epoch 92/100\n",
      "2041/2041 [==============================] - 14s 7ms/step - loss: 0.0040\n",
      "Epoch 93/100\n",
      "2041/2041 [==============================] - 14s 7ms/step - loss: 0.0039\n",
      "Epoch 94/100\n",
      "2041/2041 [==============================] - 14s 7ms/step - loss: 0.0040\n",
      "Epoch 95/100\n",
      "2041/2041 [==============================] - 14s 7ms/step - loss: 0.0039\n",
      "Epoch 96/100\n",
      "2041/2041 [==============================] - 15s 7ms/step - loss: 0.0039\n",
      "Epoch 97/100\n",
      "2041/2041 [==============================] - 15s 7ms/step - loss: 0.0038\n",
      "Epoch 98/100\n",
      "2041/2041 [==============================] - 14s 7ms/step - loss: 0.0039\n",
      "Epoch 99/100\n",
      "2041/2041 [==============================] - 14s 7ms/step - loss: 0.0039\n",
      "Epoch 100/100\n",
      "2041/2041 [==============================] - 14s 7ms/step - loss: 0.0037\n"
     ]
    },
    {
     "data": {
      "text/plain": [
       "<keras.callbacks.History at 0x413ac9c860>"
      ]
     },
     "execution_count": 33,
     "metadata": {},
     "output_type": "execute_result"
    }
   ],
   "source": [
    "#Training\n",
    "model.fit(features_set, labels, epochs = 100, batch_size = 32)"
   ]
  },
  {
   "cell_type": "code",
   "execution_count": 104,
   "metadata": {},
   "outputs": [],
   "source": [
    "#Testing\n",
    "#Importing the testing data\n",
    "df_test_complete = pd.read_csv('weather_test.csv')"
   ]
  },
  {
   "cell_type": "code",
   "execution_count": 105,
   "metadata": {
    "collapsed": true
   },
   "outputs": [
    {
     "name": "stdout",
     "output_type": "stream",
     "text": [
      "       STATION                                   NAME      DATE  TAVG\n",
      "0  USW00024229  PORTLAND INTERNATIONAL AIRPORT, OR US  1/1/2019    35\n",
      "1  USW00024229  PORTLAND INTERNATIONAL AIRPORT, OR US  1/2/2019    35\n",
      "2  USW00024229  PORTLAND INTERNATIONAL AIRPORT, OR US  1/3/2019    47\n",
      "3  USW00024229  PORTLAND INTERNATIONAL AIRPORT, OR US  1/4/2019    50\n",
      "4  USW00024229  PORTLAND INTERNATIONAL AIRPORT, OR US  1/5/2019    44\n"
     ]
    },
    {
     "data": {
      "text/plain": [
       "(27, 4)"
      ]
     },
     "execution_count": 105,
     "metadata": {},
     "output_type": "execute_result"
    }
   ],
   "source": [
    "#explore data\n",
    "print(df_test_complete.head())\n",
    "df_test_complete.shape"
   ]
  },
  {
   "cell_type": "code",
   "execution_count": 106,
   "metadata": {},
   "outputs": [],
   "source": [
    "#preprocess\n",
    "df_test_processed = df_test_complete.iloc[:, 3:4].values"
   ]
  },
  {
   "cell_type": "code",
   "execution_count": 108,
   "metadata": {},
   "outputs": [],
   "source": [
    "#Converting Test Data to Right Format\n",
    "df_total = pd.concat((df['TAVG'], df_test_complete['TAVG']), axis=0)\n",
    "test_inputs = df_total[len(df_total) - len(df_test_complete) - 60:].values"
   ]
  },
  {
   "cell_type": "code",
   "execution_count": 109,
   "metadata": {},
   "outputs": [],
   "source": [
    "#Scaling\n",
    "test_inputs = test_inputs.reshape(-1,1)\n",
    "test_inputs = scaler.transform(test_inputs)"
   ]
  },
  {
   "cell_type": "code",
   "execution_count": 110,
   "metadata": {},
   "outputs": [],
   "source": [
    "#Prepating the testing data\n",
    "test_features = []\n",
    "for i in range(60, 80):\n",
    "    test_features.append(test_inputs[i-60:i, 0])"
   ]
  },
  {
   "cell_type": "code",
   "execution_count": 111,
   "metadata": {},
   "outputs": [],
   "source": [
    "#Convert to 3 dimensions\n",
    "#first dimension is the number of records or rows (27 here)\n",
    "#second dimension is the number of time steps (60 here)\n",
    "#third dimension is the number of indicators (we are only using 1 feature - open, so 1 indicator)\n",
    "test_features = np.array(test_features)\n",
    "test_features = np.reshape(test_features, (test_features.shape[0], test_features.shape[1], 1))"
   ]
  },
  {
   "cell_type": "code",
   "execution_count": 112,
   "metadata": {},
   "outputs": [],
   "source": [
    "#Predictions\n",
    "predictions = model.predict(test_features)\n",
    "\"Since we scaled our data, the predictions made by the LSTM are also scaled. We need to reverse the scaled prediction back to their actual values.\"\n",
    "predictions = scaler.inverse_transform(predictions)"
   ]
  },
  {
   "cell_type": "code",
   "execution_count": 122,
   "metadata": {},
   "outputs": [
    {
     "data": {
      "image/png": "[encoded data removed]",
      "text/plain": [
       "<Figure size 720x432 with 1 Axes>"
      ]
     },
     "metadata": {
      "needs_background": "light"
     },
     "output_type": "display_data"
    }
   ],
   "source": [
    "#Plotting\n",
    "plt.figure(figsize=(10,6))\n",
    "plt.plot(df_test_processed, color='blue', label='Actual average temp')\n",
    "plt.plot(predictions , color='red', label='Predicted average temp')\n",
    "\n",
    "plt.title('average temp Prediction')\n",
    "plt.xlabel('Date')\n",
    "plt.ylabel('average temp')\n",
    "plt.legend()\n",
    "plt.show()"
   ]
  },
  {
   "cell_type": "code",
   "execution_count": null,
   "metadata": {},
   "outputs": [],
   "source": []
  }
 ],
 "metadata": {
  "kernelspec": {
   "display_name": "Python 3",
   "language": "python",
   "name": "python3"
  },
  "language_info": {
   "codemirror_mode": {
    "name": "ipython",
    "version": 3
   },
   "file_extension": ".py",
   "mimetype": "text/x-python",
   "name": "python",
   "nbconvert_exporter": "python",
   "pygments_lexer": "ipython3",
   "version": "3.6.7"
  }
 },
 "nbformat": 4,
 "nbformat_minor": 2
}
