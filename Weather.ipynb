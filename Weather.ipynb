{
 "cells": [
  {
   "cell_type": "code",
   "execution_count": 1,
   "metadata": {},
   "outputs": [],
   "source": [
    "#We'll be using LSTM (Long Short-Term Memory network)- \"type of recurrent neural network capable of remembering the past information and while predicting the future values, it takes this past information into account.\"\n",
    "#april 1st 2013 to dec 31 2018\n",
    "\n",
    "#Libraries and data\n",
    "import numpy as np\n",
    "import matplotlib.pyplot as plt\n",
    "import pandas as pd"
   ]
  },
  {
   "cell_type": "code",
   "execution_count": 2,
   "metadata": {},
   "outputs": [],
   "source": [
    "#Read data\n",
    "df=pd.read_csv('weather_train.csv')"
   ]
  },
  {
   "cell_type": "code",
   "execution_count": 3,
   "metadata": {},
   "outputs": [
    {
     "name": "stdout",
     "output_type": "stream",
     "text": [
      "       STATION                                   NAME      DATE  TAVG\n",
      "0  USW00024229  PORTLAND INTERNATIONAL AIRPORT, OR US  4/1/2013    60\n",
      "1  USW00024229  PORTLAND INTERNATIONAL AIRPORT, OR US  4/2/2013    57\n",
      "2  USW00024229  PORTLAND INTERNATIONAL AIRPORT, OR US  4/3/2013    53\n",
      "3  USW00024229  PORTLAND INTERNATIONAL AIRPORT, OR US  4/4/2013    57\n",
      "4  USW00024229  PORTLAND INTERNATIONAL AIRPORT, OR US  4/5/2013    57\n"
     ]
    },
    {
     "data": {
      "text/plain": [
       "(2101, 4)"
      ]
     },
     "execution_count": 3,
     "metadata": {},
     "output_type": "execute_result"
    }
   ],
   "source": [
    "#explore data\n",
    "print(df.head())\n",
    "df.shape"
   ]
  },
  {
   "cell_type": "code",
   "execution_count": 4,
   "metadata": {},
   "outputs": [
    {
     "data": {
      "text/plain": [
       "array([[60],\n",
       "       [57],\n",
       "       [53],\n",
       "       ...,\n",
       "       [48],\n",
       "       [48],\n",
       "       [39]], dtype=int64)"
      ]
     },
     "execution_count": 4,
     "metadata": {},
     "output_type": "execute_result"
    }
   ],
   "source": [
    "#We only care about the average temp\n",
    "df_training_processed = df.iloc[:, 3:4].values\n",
    "df_training_processed"
   ]
  },
  {
   "cell_type": "code",
   "execution_count": 5,
   "metadata": {},
   "outputs": [
    {
     "name": "stderr",
     "output_type": "stream",
     "text": [
      "c:\\users\\sagi\\appdata\\local\\programs\\python\\python36\\lib\\site-packages\\sklearn\\utils\\validation.py:595: DataConversionWarning: Data with input dtype int64 was converted to float64 by MinMaxScaler.\n",
      "  warnings.warn(msg, DataConversionWarning)\n"
     ]
    }
   ],
   "source": [
    "#Data scaling\n",
    "from sklearn.preprocessing import MinMaxScaler\n",
    "scaler = MinMaxScaler(feature_range = (0, 1)) #scale the data between 0 and 1\n",
    "df__training_scaled = scaler.fit_transform(df_training_processed)"
   ]
  },
  {
   "cell_type": "code",
   "execution_count": 6,
   "metadata": {},
   "outputs": [
    {
     "name": "stdout",
     "output_type": "stream",
     "text": [
      "(2041, 60, 1)\n"
     ]
    },
    {
     "data": {
      "text/plain": [
       "'data = array([\\n\\t[0.1, 1.0],\\n\\t[0.2, 0.9],\\n\\t[0.3, 0.8],\\n\\t[0.4, 0.7],\\n\\t[0.5, 0.6],\\n\\t[0.6, 0.5],\\n\\t[0.7, 0.4],\\n\\t[0.8, 0.3],\\n\\t[0.9, 0.2],\\n\\t[1.0, 0.1]])'"
      ]
     },
     "execution_count": 6,
     "metadata": {},
     "output_type": "execute_result"
    }
   ],
   "source": [
    "#predicting the avg temp based on the avg temp for the past 60 days\n",
    "\"the feature set should contain the temp values for the past 60 days\"\n",
    "\"the label (dependent var.) should be the temp at the 61st day\"\n",
    "features_set = []\n",
    "labels = []\n",
    "for i in range(60, 2101): #the data has 2101 records\n",
    "    features_set.append(df__training_scaled[i-60:i, 0]) #loop that starts from 61st record and stores all the previous 60 records to the feature_set list\"\n",
    "    labels.append(df__training_scaled[i, 0]) #the 61st record is stored in the labels list\n",
    "\n",
    "features_set, labels = np.array(features_set), np.array(labels)  #convert to numpy array\n",
    "#LSTM required a 3 dimension format so we'll convert ours.\n",
    "\n",
    "#The three dimensions of this input are:\n",
    "\n",
    "#Samples. One sequence is one sample. A batch is comprised of one or more samples.\n",
    "#Time Steps. One time step is one point of observation in the sample.\n",
    "#Features. One feature is one observation at a time step.\n",
    "\n",
    "#in ours:\n",
    "#first dimension is the number of records or rows (1511 here)\n",
    "#second dimension is the number of time steps (60 here)\n",
    "#third dimension is the number of indicators (we are only using 1 feature - temp, so 1 indicator)\n",
    "\n",
    "#This means that the input layer expects a 3D array of data when fitting the model and when making predictions\n",
    "\n",
    "features_set = np.reshape(features_set, (features_set.shape[0], features_set.shape[1], 1))\n",
    "print(features_set.shape)\n",
    "#an example with 1 sample:\n",
    "#data = array([0.1, 0.2, 0.3, 0.4, 0.5, 0.6, 0.7, 0.8, 0.9, 1.0])\n",
    "#Convert to 3D: data = data.reshape((1, 10, 1)) --> 1 sample, 10 time steps, and 1 feature at each time step.\n",
    "#This data is now ready to be used as input (X) to the LSTM with an input_shape of (10, 1).\n",
    "#model.add(LSTM(32, input_shape=(10, 1))) --> it assumes at least 1 sample  so you dont need to specify how many samples\n",
    "\n",
    "#an example with 2 samples (multiple parallel series):\n",
    "#series 1: 0.1, 0.2, 0.3, 0.4, 0.5, 0.6, 0.7, 0.8, 0.9, 1.0\n",
    "#series 2: 1.0, 0.9, 0.8, 0.7, 0.6, 0.5, 0.4, 0.3, 0.2, 0.1\n",
    "\n",
    "#define these data as a matrix of 2 columns with 10 rows:\n",
    "'''data = array([\n",
    "\t[0.1, 1.0],\n",
    "\t[0.2, 0.9],\n",
    "\t[0.3, 0.8],\n",
    "\t[0.4, 0.7],\n",
    "\t[0.5, 0.6],\n",
    "\t[0.6, 0.5],\n",
    "\t[0.7, 0.4],\n",
    "\t[0.8, 0.3],\n",
    "\t[0.9, 0.2],\n",
    "\t[1.0, 0.1]])'''\n",
    "#This data can be framed as 1 sample with 10 time steps and 2 features.\n",
    "#data = data.reshape(1, 10, 2)\n",
    "#model.add(LSTM(32, input_shape=(10, 2)))--> again, dont need to specify the amount of samples\n"
   ]
  },
  {
   "cell_type": "code",
   "execution_count": 7,
   "metadata": {},
   "outputs": [
    {
     "name": "stderr",
     "output_type": "stream",
     "text": [
      "Using TensorFlow backend.\n"
     ]
    }
   ],
   "source": [
    "#Define the model\n",
    "import keras\n",
    "from keras.models import Sequential\n",
    "from keras.layers import Dense\n",
    "from keras.layers import LSTM\n",
    "from keras.layers import Dropout\n",
    "\n",
    "model = Sequential() #the model class. We will add LSTM, Dropout and Dense layers to this model.\n",
    "#CuDNNLSTM are normal LSTM accelerated via CUDA, so runs faster on a GPU \n",
    "\n",
    "#Creating LSTM and Dropout Layers\n",
    "model.add(LSTM(units=50, return_sequences=True, activation='relu',input_shape=(features_set.shape[1], 1))) #use add() to add a layer\n",
    "#The first parameter to the LSTM layer is the number of neurons or nodes that we want in the layer. \n",
    "#The second parameter is return_sequences, set to true since we will add more LSTM layers to the model:\n",
    "#it basically returns a sequence-if we were to put a dense layer afterwards we would set it to false.\n",
    "\n",
    "#When defining the input layer of your LSTM network, the network assumes you have 1 or more samples and requires \n",
    "#that you specify the number of time steps and the number of features.\n",
    "\n",
    "#Ours: The first parameter to the input_shape is the number of time steps while the last parameter is the number of indicators (features)\n",
    "\n",
    "\n",
    "#Adding a dropout layer to our model (to avoid over-fitting)\n",
    "model.add(Dropout(0.2))\n",
    "\n",
    "#Adding three more LSTM and dropout layers to our model\n",
    "model.add(LSTM(units=50, return_sequences=True,activation='relu'))\n",
    "model.add(Dropout(0.2))\n",
    "\n",
    "model.add(LSTM(units=50, return_sequences=True,activation='relu'))\n",
    "model.add(Dropout(0.2))\n",
    "\n",
    "model.add(LSTM(units=50))\n",
    "model.add(Dropout(0.2))\n",
    "\n",
    "#Creating Dense Layer\n",
    "\"To make our model more robust, we add a dense layer at the end of the model. The number of neurons in the dense layer\" \\\n",
    "\" will be set to 1 since we want to predict a single value in the output\"\n",
    "model.add(Dense(units = 1)) #how many classes we have - 1 (e.g if we had digits it would be 10)\n",
    "\n",
    "#Define another optimizer\n",
    "#opt=keras.optimizers.Adam(lr=1e-2, beta_1=0.9, beta_2=0.999, epsilon=None, decay=1e-5) \n",
    "#the lr is the step size, the decay makes the step size smaller after time"
   ]
  },
  {
   "cell_type": "code",
   "execution_count": 8,
   "metadata": {},
   "outputs": [],
   "source": [
    "#Compile the LSTM\n",
    "#adam optimizer to reduce the loss or to optimize the algorithm\n",
    "model.compile(optimizer = 'adam', loss = 'mean_squared_error') #mean squared error as loss function"
   ]
  },
  {
   "cell_type": "code",
   "execution_count": 19,
   "metadata": {},
   "outputs": [
    {
     "name": "stdout",
     "output_type": "stream",
     "text": [
      "Epoch 1/30\n",
      "2041/2041 [==============================] - 10s 5ms/step - loss: 0.0092\n",
      "Epoch 2/30\n",
      "2041/2041 [==============================] - 10s 5ms/step - loss: 0.0086\n",
      "Epoch 3/30\n",
      "2041/2041 [==============================] - 10s 5ms/step - loss: 0.0086\n",
      "Epoch 4/30\n",
      "2041/2041 [==============================] - 10s 5ms/step - loss: 0.0088\n",
      "Epoch 5/30\n",
      "2041/2041 [==============================] - 10s 5ms/step - loss: 0.0085\n",
      "Epoch 6/30\n",
      "2041/2041 [==============================] - 10s 5ms/step - loss: 0.0083\n",
      "Epoch 7/30\n",
      "2041/2041 [==============================] - 11s 5ms/step - loss: 0.0082\n",
      "Epoch 8/30\n",
      "2041/2041 [==============================] - 11s 5ms/step - loss: 0.0078\n",
      "Epoch 9/30\n",
      "2041/2041 [==============================] - 11s 5ms/step - loss: 0.0078\n",
      "Epoch 10/30\n",
      "2041/2041 [==============================] - 11s 5ms/step - loss: 0.0081\n",
      "Epoch 11/30\n",
      "2041/2041 [==============================] - 11s 5ms/step - loss: 0.0080\n",
      "Epoch 12/30\n",
      "2041/2041 [==============================] - 11s 5ms/step - loss: 0.0077\n",
      "Epoch 13/30\n",
      "2041/2041 [==============================] - 10s 5ms/step - loss: 0.0074\n",
      "Epoch 14/30\n",
      "2041/2041 [==============================] - 10s 5ms/step - loss: 0.0072\n",
      "Epoch 15/30\n",
      "2041/2041 [==============================] - 11s 5ms/step - loss: 0.0070\n",
      "Epoch 16/30\n",
      "2041/2041 [==============================] - 11s 5ms/step - loss: 0.0069: 1s - loss:\n",
      "Epoch 17/30\n",
      "2041/2041 [==============================] - 11s 5ms/step - loss: 0.0073\n",
      "Epoch 18/30\n",
      "2041/2041 [==============================] - 11s 5ms/step - loss: 0.0069\n",
      "Epoch 19/30\n",
      "2041/2041 [==============================] - 10s 5ms/step - loss: 0.0066\n",
      "Epoch 20/30\n",
      "2041/2041 [==============================] - 11s 5ms/step - loss: 0.0066\n",
      "Epoch 21/30\n",
      "2041/2041 [==============================] - 10s 5ms/step - loss: 0.0067\n",
      "Epoch 22/30\n",
      "2041/2041 [==============================] - 10s 5ms/step - loss: 0.0067\n",
      "Epoch 23/30\n",
      "2041/2041 [==============================] - 10s 5ms/step - loss: 0.0068\n",
      "Epoch 24/30\n",
      "2041/2041 [==============================] - 10s 5ms/step - loss: 0.0063\n",
      "Epoch 25/30\n",
      "2041/2041 [==============================] - 10s 5ms/step - loss: 0.0062\n",
      "Epoch 26/30\n",
      "2041/2041 [==============================] - 10s 5ms/step - loss: 0.0067\n",
      "Epoch 27/30\n",
      "2041/2041 [==============================] - 11s 5ms/step - loss: 0.0062\n",
      "Epoch 28/30\n",
      "2041/2041 [==============================] - 11s 6ms/step - loss: 0.0067\n",
      "Epoch 29/30\n",
      "2041/2041 [==============================] - 10s 5ms/step - loss: 0.0060\n",
      "Epoch 30/30\n",
      "2041/2041 [==============================] - 10s 5ms/step - loss: 0.0059\n"
     ]
    },
    {
     "data": {
      "text/plain": [
       "<keras.callbacks.History at 0xa7b8f07c88>"
      ]
     },
     "execution_count": 19,
     "metadata": {},
     "output_type": "execute_result"
    }
   ],
   "source": [
    "#Training\n",
    "model.fit(features_set, labels, epochs = 30, batch_size = 32)"
   ]
  },
  {
   "cell_type": "code",
   "execution_count": 20,
   "metadata": {},
   "outputs": [],
   "source": [
    "#Testing\n",
    "#Importing the testing data\n",
    "df_test_complete = pd.read_csv('weather_test.csv')"
   ]
  },
  {
   "cell_type": "code",
   "execution_count": 21,
   "metadata": {},
   "outputs": [
    {
     "name": "stdout",
     "output_type": "stream",
     "text": [
      "       STATION                                   NAME      DATE  TAVG\n",
      "0  USW00024229  PORTLAND INTERNATIONAL AIRPORT, OR US  1/1/2019    35\n",
      "1  USW00024229  PORTLAND INTERNATIONAL AIRPORT, OR US  1/2/2019    35\n",
      "2  USW00024229  PORTLAND INTERNATIONAL AIRPORT, OR US  1/3/2019    47\n",
      "3  USW00024229  PORTLAND INTERNATIONAL AIRPORT, OR US  1/4/2019    50\n",
      "4  USW00024229  PORTLAND INTERNATIONAL AIRPORT, OR US  1/5/2019    44\n"
     ]
    },
    {
     "data": {
      "text/plain": [
       "(27, 4)"
      ]
     },
     "execution_count": 21,
     "metadata": {},
     "output_type": "execute_result"
    }
   ],
   "source": [
    "#explore data\n",
    "print(df_test_complete.head())\n",
    "df_test_complete.shape"
   ]
  },
  {
   "cell_type": "code",
   "execution_count": 22,
   "metadata": {},
   "outputs": [],
   "source": [
    "#preprocess\n",
    "df_test_processed = df_test_complete.iloc[:, 3:4].values"
   ]
  },
  {
   "cell_type": "code",
   "execution_count": 23,
   "metadata": {},
   "outputs": [],
   "source": [
    "#Converting Test Data to Right Format\n",
    "df_total = pd.concat((df['TAVG'], df_test_complete['TAVG']), axis=0)\n",
    "test_inputs = df_total[len(df_total) - len(df_test_complete) - 60:].values"
   ]
  },
  {
   "cell_type": "code",
   "execution_count": 24,
   "metadata": {},
   "outputs": [],
   "source": [
    "#Scaling\n",
    "test_inputs = test_inputs.reshape(-1,1)\n",
    "test_inputs = scaler.transform(test_inputs)"
   ]
  },
  {
   "cell_type": "code",
   "execution_count": 25,
   "metadata": {},
   "outputs": [],
   "source": [
    "#Prepating the testing data\n",
    "test_features = []\n",
    "for i in range(60, 80):\n",
    "    test_features.append(test_inputs[i-60:i, 0])"
   ]
  },
  {
   "cell_type": "code",
   "execution_count": 26,
   "metadata": {},
   "outputs": [],
   "source": [
    "#Convert to 3 dimensions\n",
    "#first dimension is the number of records or rows (27 here)\n",
    "#second dimension is the number of time steps (60 here)\n",
    "#third dimension is the number of indicators (we are only using 1 feature - temp, so 1 indicator)\n",
    "test_features = np.array(test_features)\n",
    "test_features = np.reshape(test_features, (test_features.shape[0], test_features.shape[1], 1))"
   ]
  },
  {
   "cell_type": "code",
   "execution_count": 27,
   "metadata": {},
   "outputs": [],
   "source": [
    "#Predictions\n",
    "predictions = model.predict(test_features)\n",
    "\"Since we scaled our data, the predictions made by the LSTM are also scaled. We need to reverse the scaled prediction back to their actual values.\"\n",
    "predictions = scaler.inverse_transform(predictions)"
   ]
  },
  {
   "cell_type": "code",
   "execution_count": 28,
   "metadata": {},
   "outputs": [
    {
     "data": {
      "image/png": "[encoded data removed]",
      "text/plain": [
       "<Figure size 720x432 with 1 Axes>"
      ]
     },
     "metadata": {
      "needs_background": "light"
     },
     "output_type": "display_data"
    }
   ],
   "source": [
    "#Plotting\n",
    "plt.figure(figsize=(10,6))\n",
    "plt.plot(df_test_processed, color='blue', label='Actual average temp')\n",
    "plt.plot(predictions, color='red', label='Predicted average temp')\n",
    "\n",
    "plt.title('Average temp Prediction')\n",
    "plt.xlabel('Date')\n",
    "plt.ylabel('Average temp')\n",
    "plt.legend()\n",
    "plt.show()"
   ]
  }
 ],
 "metadata": {
  "kernelspec": {
   "display_name": "Python 3",
   "language": "python",
   "name": "python3"
  },
  "language_info": {
   "codemirror_mode": {
    "name": "ipython",
    "version": 3
   },
   "file_extension": ".py",
   "mimetype": "text/x-python",
   "name": "python",
   "nbconvert_exporter": "python",
   "pygments_lexer": "ipython3",
   "version": "3.6.7"
  }
 },
 "nbformat": 4,
 "nbformat_minor": 2
}
